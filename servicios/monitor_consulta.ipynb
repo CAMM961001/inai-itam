{
 "cells": [
  {
   "cell_type": "markdown",
   "id": "da8c0adb-56e1-481d-b1d4-37adbd16ab0e",
   "metadata": {},
   "source": [
    "# Monitor de consulta\n",
    "\n",
    "Describir las funciones del monitor\n"
   ]
  },
  {
   "cell_type": "code",
   "execution_count": 1,
   "id": "a874b7a5-44c5-447d-9f30-c819200f2195",
   "metadata": {},
   "outputs": [],
   "source": [
    "import os, json, yaml\n",
    "import numpy as np\n",
    "import pandas as pd\n",
    "import matplotlib.pyplot as plt\n",
    "\n",
    "import modulos.consultas as consultas\n",
    "\n",
    "from ipywidgets import widgets"
   ]
  },
  {
   "cell_type": "code",
   "execution_count": 2,
   "id": "5850c8db-8fbe-40c9-bbb2-af4b825bf587",
   "metadata": {},
   "outputs": [],
   "source": [
    "# Paths absolutos\n",
    "__file__ = 'monitor_consulta.ipynb'\n",
    "CURRENT = os.path.dirname(os.path.abspath(__file__))\n",
    "ROOT = os.path.dirname(CURRENT)\n",
    "\n",
    "# Archivo de configuración\n",
    "with open(os.path.join(ROOT, 'config.yaml'), 'r') as f:\n",
    "    config = yaml.safe_load(f)\n",
    "f.close()\n",
    "\n",
    "# Paths de datos\n",
    "TIEMPO_PATH = os.path.join(ROOT, config['datos']['tiempo'])"
   ]
  },
  {
   "cell_type": "markdown",
   "id": "28d2edff-d5d3-492e-b888-1be9381dd8f1",
   "metadata": {},
   "source": [
    "# Interés en el tiempo\n",
    "Carga de datos"
   ]
  },
  {
   "cell_type": "code",
   "execution_count": 3,
   "id": "c10d33c5-8012-4b48-8b31-03b3ca99ba3c",
   "metadata": {},
   "outputs": [],
   "source": [
    "with open(file=TIEMPO_PATH, mode='r') as file:\n",
    "    contenido = json.load(file)\n",
    "file.close()"
   ]
  },
  {
   "cell_type": "markdown",
   "id": "d91c7af1-a5e0-48e3-9c8a-752a68099b76",
   "metadata": {},
   "source": [
    "## Porcentaje de criterios consultados (PCC)\n",
    "\n",
    "$$PCC = \\frac{\\#\\{criterios\\,consultados\\}}{\\#\\{criterios\\,búsqueda\\}}$$"
   ]
  },
  {
   "cell_type": "code",
   "execution_count": 4,
   "id": "a324771c-2e49-4ee3-be00-cef1e1bb1f8b",
   "metadata": {},
   "outputs": [],
   "source": [
    "# Criterios búsqueda\n",
    "with open(file=os.path.join(ROOT, config['datos']['criterios']), mode='r') as f:\n",
    "    criterios_busqueda = [row.strip() for row in f]        \n",
    "f.close()\n",
    "\n",
    "# Criterios consultados\n",
    "consultados = consultas.criterios_existentes(file=TIEMPO_PATH)"
   ]
  },
  {
   "cell_type": "markdown",
   "id": "35a5499a-f7df-4273-b1f8-5c41f5d8edcf",
   "metadata": {},
   "source": [
    "**PCC**"
   ]
  },
  {
   "cell_type": "code",
   "execution_count": 5,
   "id": "5f777d53-227c-4181-839f-429f7732ee1f",
   "metadata": {},
   "outputs": [
    {
     "name": "stdout",
     "output_type": "stream",
     "text": [
      "Pct. Criterios Consultados: 85.11%\n"
     ]
    }
   ],
   "source": [
    "pcc_tiempo = len(consultados) / len(criterios_busqueda)\n",
    "print(f'Pct. Criterios Consultados: {pcc_tiempo*100:.2f}%')"
   ]
  },
  {
   "cell_type": "markdown",
   "id": "ce59ebea-7f8a-4e1d-af96-61fccf8d8471",
   "metadata": {},
   "source": [
    "## Exploración tabular\n"
   ]
  },
  {
   "cell_type": "code",
   "execution_count": 6,
   "id": "fe18c63d-dc57-4e07-a62a-70b4e374c39d",
   "metadata": {
    "tags": []
   },
   "outputs": [
    {
     "data": {
      "application/vnd.jupyter.widget-view+json": {
       "model_id": "6fdc4f82163f4c879a3362991a25a294",
       "version_major": 2,
       "version_minor": 0
      },
      "text/plain": [
       "interactive(children=(Dropdown(description='Criterio', options=('inai', 'semanas cotizadas', 'expediente medic…"
      ]
     },
     "metadata": {},
     "output_type": "display_data"
    },
    {
     "data": {
      "text/plain": [
       "<function __main__.ver_tiempo(criterio)>"
      ]
     },
     "execution_count": 6,
     "metadata": {},
     "output_type": "execute_result"
    }
   ],
   "source": [
    "def ver_tiempo(criterio):\n",
    "    criterios = [contenido[k]['criterio'] for k in range(len(contenido))]\n",
    "    idx_criterio = criterios.index(criterio)\n",
    "    \n",
    "    consulta = contenido[idx_criterio]['contenidos']\n",
    "    \n",
    "    return pd.DataFrame(consulta).head()\n",
    "\n",
    "# consultas = list(contenido[0].keys())\n",
    "# consultas.remove(\"criterio\")\n",
    "\n",
    "widgets.interact(ver_tiempo,\n",
    "                 criterio=widgets.Dropdown(\n",
    "                     options=[contenido[k]['criterio'] for k in range(len(contenido))],\n",
    "                     description='Criterio',\n",
    "                     disabled=False)\n",
    "                )"
   ]
  },
  {
   "cell_type": "markdown",
   "id": "e5e95e64-3606-46c1-8c6c-c63da75753bb",
   "metadata": {},
   "source": [
    "## Visualización inicial"
   ]
  },
  {
   "cell_type": "code",
   "execution_count": 9,
   "id": "ae7d6294-d248-428d-92da-fbbee02867e1",
   "metadata": {},
   "outputs": [],
   "source": [
    "def plot_tiempo(criterio):\n",
    "    # Filtro de datos\n",
    "    criterios = [contenido[k]['criterio'] for k in range(len(contenido))]\n",
    "    idx_criterio = criterios.index(criterio)\n",
    "    consulta = contenido[idx_criterio]['contenidos']\n",
    "    over_time = pd.DataFrame(consulta)\n",
    "    over_time['fecha'] = pd.to_datetime(over_time['fecha'])\n",
    "    \n",
    "    # Visualización\n",
    "    fig, ax = plt.subplots(figsize=(16,6))\n",
    "\n",
    "    scatter = ax.scatter(x=over_time['fecha'], y=over_time['valor'], c=over_time['parcial'], cmap='Paired')\n",
    "    ax.plot(over_time['fecha'], over_time['valor'], color='black', alpha=0.25)\n",
    "\n",
    "    #Anotaciones y estilo\n",
    "    ax.set_title(label=f'Interés a lo largo del tiempo - {criterio.title()}\\nÚltimos {config[\"etl\"][\"anios\"]} años', fontsize=14, loc='left')\n",
    "    ax.legend(*scatter.legend_elements(), loc=\"upper left\", title=\"Parcial\")\n",
    "    ax.grid(alpha=0.1)\n",
    "\n",
    "    plt.show()"
   ]
  },
  {
   "cell_type": "code",
   "execution_count": 10,
   "id": "67b16094-a9f7-4409-8ea1-5ba67c94c5af",
   "metadata": {},
   "outputs": [
    {
     "data": {
      "application/vnd.jupyter.widget-view+json": {
       "model_id": "3e105b7011ec498cacf8d2982d53fd5f",
       "version_major": 2,
       "version_minor": 0
      },
      "text/plain": [
       "interactive(children=(Dropdown(description='Criterio', options=('inai', 'semanas cotizadas', 'expediente medic…"
      ]
     },
     "metadata": {},
     "output_type": "display_data"
    },
    {
     "data": {
      "text/plain": [
       "<function __main__.plot_tiempo(criterio)>"
      ]
     },
     "execution_count": 10,
     "metadata": {},
     "output_type": "execute_result"
    }
   ],
   "source": [
    "widgets.interact(plot_tiempo,\n",
    "                 criterio=widgets.Dropdown(\n",
    "                     options=[contenido[k]['criterio'] for k in range(len(contenido))],\n",
    "                     description='Criterio',\n",
    "                     disabled=False)\n",
    "                )"
   ]
  },
  {
   "cell_type": "code",
   "execution_count": null,
   "id": "a33df166-c003-491a-877c-b08d5b408d16",
   "metadata": {},
   "outputs": [],
   "source": []
  },
  {
   "cell_type": "code",
   "execution_count": null,
   "id": "bbe71ccd-4bdd-427c-ab16-444c26ae0dc8",
   "metadata": {},
   "outputs": [],
   "source": []
  },
  {
   "cell_type": "raw",
   "id": "a090b314-3758-4e08-9152-996795aeb92b",
   "metadata": {
    "tags": []
   },
   "source": [
    "def ver_tiempo(criterio):\n",
    "    criterios = [contenido[k]['criterio'] for k in range(len(contenido))]\n",
    "    idx_criterio = criterios.index(criterio)\n",
    "    \n",
    "    if consulta == \"interes_tiempo\":\n",
    "        consulta = contenido[idx_criterio][consulta]\n",
    "    elif consulta == \"interes_region\":\n",
    "        print(f\"\\nInicio:\\t{contenido[idx_criterio][consulta][periodo]['fecha_inicio']}\\nFin:\\t{contenido[idx_criterio][consulta][periodo]['fecha_fin']}\")\n",
    "        consulta = contenido[idx_criterio][consulta][periodo]['contenido']\n",
    "    else:\n",
    "        print(f\"\\nInicio:\\t{contenido[idx_criterio][consulta][periodo]['fecha_inicio']}\\nFin:\\t{contenido[idx_criterio][consulta][periodo]['fecha_fin']}\")\n",
    "        consulta = contenido[idx_criterio][consulta][periodo]['contenido'][clase]\n",
    "    \n",
    "    return pd.DataFrame(consulta)\n",
    "\n",
    "consultas = list(contenido[0].keys())\n",
    "consultas.remove(\"criterio\")\n",
    "\n",
    "widgets.interact(ver_tiempo,\n",
    "                 criterio=widgets.Dropdown(options=[contenido[k]['criterio'] for k in range(len(contenido))], description='Criterio', disabled=False),\n",
    "                 consulta=widgets.Dropdown(options=consultas, description='Consulta', disabled=False),\n",
    "                 periodo=widgets.IntSlider(min=0, max=len(contenido[0][\"interes_region\"])-1, step=1, description='Periodo'),\n",
    "                 clase=widgets.Dropdown(options=['aumento','top'], description='Clase', disabled=False)\n",
    "                )"
   ]
  },
  {
   "cell_type": "code",
   "execution_count": null,
   "id": "63c0c2c8-cb61-47e2-b3d4-91b3dd112b2d",
   "metadata": {},
   "outputs": [],
   "source": []
  }
 ],
 "metadata": {
  "kernelspec": {
   "display_name": "Python 3 (ipykernel)",
   "language": "python",
   "name": "python3"
  },
  "language_info": {
   "codemirror_mode": {
    "name": "ipython",
    "version": 3
   },
   "file_extension": ".py",
   "mimetype": "text/x-python",
   "name": "python",
   "nbconvert_exporter": "python",
   "pygments_lexer": "ipython3",
   "version": "3.10.6"
  }
 },
 "nbformat": 4,
 "nbformat_minor": 5
}
