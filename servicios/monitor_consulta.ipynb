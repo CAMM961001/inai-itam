{
 "cells": [
  {
   "cell_type": "markdown",
   "id": "da8c0adb-56e1-481d-b1d4-37adbd16ab0e",
   "metadata": {},
   "source": [
    "# Monitor de consulta\n",
    "\n",
    "Describir las funciones del monitor\n"
   ]
  },
  {
   "cell_type": "code",
   "execution_count": 42,
   "id": "a874b7a5-44c5-447d-9f30-c819200f2195",
   "metadata": {},
   "outputs": [],
   "source": [
    "import os, json, yaml\n",
    "import numpy as np\n",
    "import pandas as pd\n",
    "import matplotlib.pyplot as plt\n",
    "\n",
    "import modulos.consultas as consultas\n",
    "\n",
    "from ipywidgets import widgets"
   ]
  },
  {
   "cell_type": "code",
   "execution_count": 43,
   "id": "5850c8db-8fbe-40c9-bbb2-af4b825bf587",
   "metadata": {},
   "outputs": [],
   "source": [
    "# Paths absolutos\n",
    "__file__ = 'monitor_consulta.ipynb'\n",
    "CURRENT = os.path.dirname(os.path.abspath(__file__))\n",
    "ROOT = os.path.dirname(CURRENT)\n",
    "\n",
    "# Archivo de configuración\n",
    "with open(os.path.join(ROOT, 'config.yaml'), 'r') as f:\n",
    "    config = yaml.safe_load(f)\n",
    "f.close()\n",
    "\n",
    "# Paths de datos\n",
    "TIEMPO_PATH = os.path.join(ROOT, config['datos']['tiempo'])\n",
    "REGION_PATH = os.path.join(ROOT, config['datos']['region'])\n",
    "RELACI_PATH = os.path.join(ROOT, config['etl']['relacionados'])"
   ]
  },
  {
   "cell_type": "markdown",
   "id": "28d2edff-d5d3-492e-b888-1be9381dd8f1",
   "metadata": {},
   "source": [
    "# Interés en el tiempo\n",
    "Carga de datos"
   ]
  },
  {
   "cell_type": "code",
   "execution_count": 3,
   "id": "c10d33c5-8012-4b48-8b31-03b3ca99ba3c",
   "metadata": {},
   "outputs": [],
   "source": [
    "with open(file=TIEMPO_PATH, mode='r') as file:\n",
    "    contenido = json.load(file)\n",
    "file.close()"
   ]
  },
  {
   "cell_type": "markdown",
   "id": "d91c7af1-a5e0-48e3-9c8a-752a68099b76",
   "metadata": {},
   "source": [
    "## Porcentaje de criterios consultados (PCC)\n",
    "\n",
    "$$PCC = \\frac{\\#\\{criterios\\,consultados\\}}{\\#\\{criterios\\,búsqueda\\}}$$"
   ]
  },
  {
   "cell_type": "code",
   "execution_count": 4,
   "id": "a324771c-2e49-4ee3-be00-cef1e1bb1f8b",
   "metadata": {},
   "outputs": [],
   "source": [
    "# Criterios búsqueda\n",
    "with open(file=os.path.join(ROOT, config['datos']['criterios']), mode='r') as f:\n",
    "    criterios_busqueda = [row.strip() for row in f]        \n",
    "f.close()\n",
    "\n",
    "# Criterios consultados\n",
    "consultados = consultas.criterios_existentes(file=TIEMPO_PATH)"
   ]
  },
  {
   "cell_type": "markdown",
   "id": "35a5499a-f7df-4273-b1f8-5c41f5d8edcf",
   "metadata": {},
   "source": [
    "**PCC**"
   ]
  },
  {
   "cell_type": "code",
   "execution_count": 5,
   "id": "5f777d53-227c-4181-839f-429f7732ee1f",
   "metadata": {},
   "outputs": [
    {
     "name": "stdout",
     "output_type": "stream",
     "text": [
      "Pct. Criterios Consultados: 85.11%\n"
     ]
    }
   ],
   "source": [
    "pcc_tiempo = len(consultados) / len(criterios_busqueda)\n",
    "print(f'Pct. Criterios Consultados: {pcc_tiempo*100:.2f}%')"
   ]
  },
  {
   "cell_type": "markdown",
   "id": "ce59ebea-7f8a-4e1d-af96-61fccf8d8471",
   "metadata": {},
   "source": [
    "## Exploración tabular\n"
   ]
  },
  {
   "cell_type": "code",
   "execution_count": 6,
   "id": "fe18c63d-dc57-4e07-a62a-70b4e374c39d",
   "metadata": {
    "tags": []
   },
   "outputs": [
    {
     "data": {
      "application/vnd.jupyter.widget-view+json": {
       "model_id": "fe065ac62b2643b4b35fbb170477b5ee",
       "version_major": 2,
       "version_minor": 0
      },
      "text/plain": [
       "interactive(children=(Dropdown(description='Criterio', options=('inai', 'semanas cotizadas', 'expediente medic…"
      ]
     },
     "metadata": {},
     "output_type": "display_data"
    },
    {
     "data": {
      "text/plain": [
       "<function __main__.ver_tiempo(criterio)>"
      ]
     },
     "execution_count": 6,
     "metadata": {},
     "output_type": "execute_result"
    }
   ],
   "source": [
    "def ver_tiempo(criterio):\n",
    "    criterios = [contenido[k]['criterio'] for k in range(len(contenido))]\n",
    "    idx_criterio = criterios.index(criterio)\n",
    "    \n",
    "    consulta = contenido[idx_criterio]['contenidos']\n",
    "    \n",
    "    return pd.DataFrame(consulta).head()\n",
    "\n",
    "# consultas = list(contenido[0].keys())\n",
    "# consultas.remove(\"criterio\")\n",
    "\n",
    "widgets.interact(ver_tiempo,\n",
    "                 criterio=widgets.Dropdown(\n",
    "                     options=[contenido[k]['criterio'] for k in range(len(contenido))],\n",
    "                     description='Criterio',\n",
    "                     disabled=False)\n",
    "                )"
   ]
  },
  {
   "cell_type": "markdown",
   "id": "e5e95e64-3606-46c1-8c6c-c63da75753bb",
   "metadata": {},
   "source": [
    "## Visualización inicial"
   ]
  },
  {
   "cell_type": "code",
   "execution_count": 7,
   "id": "ae7d6294-d248-428d-92da-fbbee02867e1",
   "metadata": {},
   "outputs": [],
   "source": [
    "def plot_tiempo(criterio):\n",
    "    # Filtro de datos\n",
    "    criterios = [contenido[k]['criterio'] for k in range(len(contenido))]\n",
    "    idx_criterio = criterios.index(criterio)\n",
    "    consulta = contenido[idx_criterio]['contenidos']\n",
    "    over_time = pd.DataFrame(consulta)\n",
    "    over_time['fecha'] = pd.to_datetime(over_time['fecha'])\n",
    "    \n",
    "    # Visualización\n",
    "    fig, ax = plt.subplots(figsize=(16,6))\n",
    "\n",
    "    scatter = ax.scatter(x=over_time['fecha'], y=over_time['valor'], c=over_time['parcial'], cmap='Paired')\n",
    "    ax.plot(over_time['fecha'], over_time['valor'], color='black', alpha=0.25)\n",
    "\n",
    "    #Anotaciones y estilo\n",
    "    ax.set_title(label=f'Interés a lo largo del tiempo - {criterio.title()}\\nÚltimos {config[\"etl\"][\"anios\"]} años', fontsize=14, loc='left')\n",
    "    ax.legend(*scatter.legend_elements(), loc=\"upper left\", title=\"Parcial\")\n",
    "    ax.grid(alpha=0.1)\n",
    "\n",
    "    plt.show()"
   ]
  },
  {
   "cell_type": "code",
   "execution_count": 8,
   "id": "67b16094-a9f7-4409-8ea1-5ba67c94c5af",
   "metadata": {
    "tags": []
   },
   "outputs": [
    {
     "data": {
      "application/vnd.jupyter.widget-view+json": {
       "model_id": "f4dcb20ad5ec42ef8ee99a085c110f38",
       "version_major": 2,
       "version_minor": 0
      },
      "text/plain": [
       "interactive(children=(Dropdown(description='Criterio', options=('inai', 'semanas cotizadas', 'expediente medic…"
      ]
     },
     "metadata": {},
     "output_type": "display_data"
    },
    {
     "data": {
      "text/plain": [
       "<function __main__.plot_tiempo(criterio)>"
      ]
     },
     "execution_count": 8,
     "metadata": {},
     "output_type": "execute_result"
    }
   ],
   "source": [
    "widgets.interact(plot_tiempo,\n",
    "                 criterio=widgets.Dropdown(\n",
    "                     options=[contenido[k]['criterio'] for k in range(len(contenido))],\n",
    "                     description='Criterio',\n",
    "                     disabled=False)\n",
    "                )"
   ]
  },
  {
   "cell_type": "markdown",
   "id": "473e0f1c-b290-4282-a986-b977f28fd3c3",
   "metadata": {},
   "source": [
    "# Interés región\n",
    "Carga de datos"
   ]
  },
  {
   "cell_type": "code",
   "execution_count": 9,
   "id": "436e915f-b915-4784-92d1-c31c217a397e",
   "metadata": {},
   "outputs": [],
   "source": [
    "with open(file=REGION_PATH, mode='r') as file:\n",
    "    contenido = json.load(file)\n",
    "file.close()"
   ]
  },
  {
   "cell_type": "markdown",
   "id": "56a99431-1319-4651-8711-0cdcb4402702",
   "metadata": {},
   "source": [
    "## Porcentaje de criterios consultados (PCC)\n",
    "\n",
    "$$PCC = \\frac{\\#\\{criterios\\,consultados\\}}{\\#\\{criterios\\,búsqueda\\}}$$"
   ]
  },
  {
   "cell_type": "code",
   "execution_count": 10,
   "id": "496480cb-5a59-40af-9130-456af07797e7",
   "metadata": {},
   "outputs": [],
   "source": [
    "# Criterios consultados\n",
    "consultados = consultas.criterios_existentes(file=REGION_PATH)"
   ]
  },
  {
   "cell_type": "markdown",
   "id": "4f70cd32-73b7-4125-9a61-be151b199798",
   "metadata": {},
   "source": [
    "**PCC**"
   ]
  },
  {
   "cell_type": "code",
   "execution_count": 11,
   "id": "70da4527-e968-453d-8e39-7356937de2df",
   "metadata": {},
   "outputs": [
    {
     "name": "stdout",
     "output_type": "stream",
     "text": [
      "Pct. Criterios Consultados: 100.00%\n"
     ]
    }
   ],
   "source": [
    "pcc_tiempo = len(consultados) / len(criterios_busqueda)\n",
    "print(f'Pct. Criterios Consultados: {pcc_tiempo*100:.2f}%')"
   ]
  },
  {
   "cell_type": "markdown",
   "id": "723ff283-532e-4471-813d-4ad4628486dc",
   "metadata": {},
   "source": [
    "## Exploración tabular\n"
   ]
  },
  {
   "cell_type": "code",
   "execution_count": 12,
   "id": "1cbfedcb-07de-4e87-af93-64e7fc66f7b5",
   "metadata": {
    "tags": []
   },
   "outputs": [
    {
     "data": {
      "application/vnd.jupyter.widget-view+json": {
       "model_id": "8a071ee16c714249962d04a7a793c079",
       "version_major": 2,
       "version_minor": 0
      },
      "text/plain": [
       "interactive(children=(Dropdown(description='Criterio', options=('inai', 'semanas cotizadas', 'expediente medic…"
      ]
     },
     "metadata": {},
     "output_type": "display_data"
    },
    {
     "data": {
      "text/plain": [
       "<function __main__.ver_region(criterio, periodo)>"
      ]
     },
     "execution_count": 12,
     "metadata": {},
     "output_type": "execute_result"
    }
   ],
   "source": [
    "def ver_region(criterio, periodo):\n",
    "    criterios = [contenido[k]['criterio'] for k in range(len(contenido))]\n",
    "    idx_criterio = criterios.index(criterio)\n",
    "    \n",
    "    consulta = contenido[idx_criterio]['contenidos']\n",
    "    consulta = consulta[periodo]['consulta']\n",
    "    \n",
    "    return pd.DataFrame(consulta).head()\n",
    "\n",
    "widgets.interact(ver_region,\n",
    "                 criterio=widgets.Dropdown(\n",
    "                     options=[contenido[k]['criterio'] for k in range(len(contenido))],\n",
    "                     description='Criterio',\n",
    "                     disabled=False),\n",
    "                 periodo=widgets.IntSlider(\n",
    "                     min=0,\n",
    "                     max=len(contenido[0][\"contenidos\"])-1,\n",
    "                     step=1,\n",
    "                     description='Periodo')\n",
    "                )"
   ]
  },
  {
   "cell_type": "markdown",
   "id": "9b8b6f41-767c-4678-84cd-08757b5edf1c",
   "metadata": {},
   "source": [
    "# Temas relacionados\n",
    "Carga de datos"
   ]
  },
  {
   "cell_type": "code",
   "execution_count": 13,
   "id": "487fb0ae-47af-4023-a4dd-362e88d4923b",
   "metadata": {},
   "outputs": [],
   "source": [
    "with open(file=RELACI_PATH, mode='r') as file:\n",
    "    contenido = json.load(file)\n",
    "file.close()"
   ]
  },
  {
   "cell_type": "markdown",
   "id": "9d2b1208",
   "metadata": {},
   "source": [
    "## Inspección tabular\n",
    "\n",
    "Esta sección es para tener un visualizador rápido de los datos de origen, para que se puede entender su estructura."
   ]
  },
  {
   "cell_type": "code",
   "execution_count": 14,
   "id": "aad1d224-f55a-4d19-a059-48934c3344a4",
   "metadata": {
    "tags": []
   },
   "outputs": [
    {
     "data": {
      "application/vnd.jupyter.widget-view+json": {
       "model_id": "eb70250a48dc4c17a9e8f956ac757a0c",
       "version_major": 2,
       "version_minor": 0
      },
      "text/plain": [
       "interactive(children=(Dropdown(description='Criterio', options=('inai', 'semanas cotizadas', 'expediente medic…"
      ]
     },
     "metadata": {},
     "output_type": "display_data"
    },
    {
     "data": {
      "text/plain": [
       "<function __main__.ver_relacionados(criterio, periodo, tipo)>"
      ]
     },
     "execution_count": 14,
     "metadata": {},
     "output_type": "execute_result"
    }
   ],
   "source": [
    "def ver_relacionados(criterio, periodo, tipo):\n",
    "    criterios = [contenido[k]['criterio'] for k in range(len(contenido))]\n",
    "    idx_criterio = criterios.index(criterio)\n",
    "    \n",
    "    consulta = contenido[idx_criterio]['contenidos']\n",
    "    consulta = consulta[periodo]['consulta']\n",
    "\n",
    "    consulta = pd.DataFrame(consulta[tipo])\n",
    "    \n",
    "    return pd.DataFrame(consulta).head()\n",
    "\n",
    "widgets.interact(\n",
    "    ver_relacionados,\n",
    "    criterio=widgets.Dropdown(\n",
    "        options=[contenido[k]['criterio'] for k in range(len(contenido))],\n",
    "        description='Criterio',\n",
    "        disabled=False),\n",
    "    periodo=widgets.IntSlider(\n",
    "        min=0,\n",
    "        max=len(contenido[0][\"contenidos\"])-1,\n",
    "        step=1,\n",
    "        description='Periodo'),\n",
    "    tipo=widgets.Dropdown(\n",
    "        options=['top','aumento'],\n",
    "        description='Tipo',\n",
    "        disabled=False)                \n",
    ")"
   ]
  },
  {
   "cell_type": "markdown",
   "id": "bbe71ccd-4bdd-427c-ab16-444c26ae0dc8",
   "metadata": {
    "tags": []
   },
   "source": [
    "## Análisis exploratorio\n",
    "\n",
    "¿Cuántas palabras únicas hay en todo el corpus?\n",
    "\n",
    "Independientemente del periodo del lote, el criterio de búsqueda, o si se trata de un tema relacionado top o en aumento, las palabras que han surgido en los resultados de búsqueda son:"
   ]
  },
  {
   "cell_type": "code",
   "execution_count": 15,
   "id": "63c0c2c8-cb61-47e2-b3d4-91b3dd112b2d",
   "metadata": {},
   "outputs": [
    {
     "data": {
      "text/plain": [
       "1236"
      ]
     },
     "execution_count": 15,
     "metadata": {},
     "output_type": "execute_result"
    }
   ],
   "source": [
    "corpus = list()\n",
    "n_criterios = len(contenido)\n",
    "for id_criterio in range(n_criterios):\n",
    "    \n",
    "    # Extraer lotes de consulta\n",
    "    lotes = contenido[id_criterio]['contenidos']\n",
    "    n_lotes = len(lotes)\n",
    "    \n",
    "    for id_lote in range(n_lotes):\n",
    "        \n",
    "        # Extraer el tipo de consulta del lote\n",
    "        tipos = lotes[id_lote]['consulta']\n",
    "\n",
    "        for tipo in tipos.keys():\n",
    "            try:\n",
    "                # Agregar token a corpus\n",
    "                for doc_ in tipos[tipo]['descripcion'].values():\n",
    "                    [corpus.append(word) for word in doc_ if word not in corpus]\n",
    "\n",
    "            except TypeError:\n",
    "                continue\n",
    "\n",
    "corpus = {'token':corpus}\n",
    "len(corpus['token'])"
   ]
  },
  {
   "cell_type": "markdown",
   "id": "a0af4ed6",
   "metadata": {},
   "source": [
    "### Frecuencia de palabras\n",
    "\n",
    "Dado que se estructuraron las cosas de modo que se pudiera hacer un análisis por lotes de tiempo, entonces el análisis de n-gramas debe satisfacer esta característica.\n",
    "\n",
    "Para efectos de análisis, primero se deben consolidar las consultas por lote de tiempo en una sola tabla, para ello:"
   ]
  },
  {
   "cell_type": "code",
   "execution_count": 16,
   "id": "62bef34e-f310-4e64-889b-bb1b8be882d5",
   "metadata": {},
   "outputs": [],
   "source": [
    "# Para iterar en for loops anidados\n",
    "from itertools import product"
   ]
  },
  {
   "cell_type": "code",
   "execution_count": 25,
   "id": "ece143fc-7cd5-446f-828e-12576a11ff00",
   "metadata": {},
   "outputs": [
    {
     "data": {
      "text/html": [
       "<div>\n",
       "<style scoped>\n",
       "    .dataframe tbody tr th:only-of-type {\n",
       "        vertical-align: middle;\n",
       "    }\n",
       "\n",
       "    .dataframe tbody tr th {\n",
       "        vertical-align: top;\n",
       "    }\n",
       "\n",
       "    .dataframe thead th {\n",
       "        text-align: right;\n",
       "    }\n",
       "</style>\n",
       "<table border=\"1\" class=\"dataframe\">\n",
       "  <thead>\n",
       "    <tr style=\"text-align: right;\">\n",
       "      <th></th>\n",
       "      <th>descripcion</th>\n",
       "      <th>tipo</th>\n",
       "      <th>inicio</th>\n",
       "      <th>fin</th>\n",
       "      <th>lote</th>\n",
       "      <th>criterio</th>\n",
       "      <th>id_criterio</th>\n",
       "    </tr>\n",
       "  </thead>\n",
       "  <tbody>\n",
       "    <tr>\n",
       "      <th>0</th>\n",
       "      <td>[red, social]</td>\n",
       "      <td>aumento</td>\n",
       "      <td>2022-11-20</td>\n",
       "      <td>2023-02-20</td>\n",
       "      <td>0</td>\n",
       "      <td>inai</td>\n",
       "      <td>0</td>\n",
       "    </tr>\n",
       "    <tr>\n",
       "      <th>1</th>\n",
       "      <td>[constitucion, politica, unidos, mexicanos]</td>\n",
       "      <td>aumento</td>\n",
       "      <td>2022-11-20</td>\n",
       "      <td>2023-02-20</td>\n",
       "      <td>0</td>\n",
       "      <td>inai</td>\n",
       "      <td>0</td>\n",
       "    </tr>\n",
       "    <tr>\n",
       "      <th>2</th>\n",
       "      <td>[archivo, documentos]</td>\n",
       "      <td>aumento</td>\n",
       "      <td>2022-11-20</td>\n",
       "      <td>2023-02-20</td>\n",
       "      <td>0</td>\n",
       "      <td>inai</td>\n",
       "      <td>0</td>\n",
       "    </tr>\n",
       "    <tr>\n",
       "      <th>3</th>\n",
       "      <td>[clasificacion]</td>\n",
       "      <td>aumento</td>\n",
       "      <td>2022-11-20</td>\n",
       "      <td>2023-02-20</td>\n",
       "      <td>0</td>\n",
       "      <td>inai</td>\n",
       "      <td>0</td>\n",
       "    </tr>\n",
       "    <tr>\n",
       "      <th>4</th>\n",
       "      <td>[consejo, nacional, prevenir, discriminacion]</td>\n",
       "      <td>aumento</td>\n",
       "      <td>2022-11-20</td>\n",
       "      <td>2023-02-20</td>\n",
       "      <td>0</td>\n",
       "      <td>inai</td>\n",
       "      <td>0</td>\n",
       "    </tr>\n",
       "    <tr>\n",
       "      <th>...</th>\n",
       "      <td>...</td>\n",
       "      <td>...</td>\n",
       "      <td>...</td>\n",
       "      <td>...</td>\n",
       "      <td>...</td>\n",
       "      <td>...</td>\n",
       "      <td>...</td>\n",
       "    </tr>\n",
       "    <tr>\n",
       "      <th>1</th>\n",
       "      <td>[derechos]</td>\n",
       "      <td>top</td>\n",
       "      <td>2022-11-20</td>\n",
       "      <td>2023-02-20</td>\n",
       "      <td>0</td>\n",
       "      <td>vulnerar</td>\n",
       "      <td>46</td>\n",
       "    </tr>\n",
       "    <tr>\n",
       "      <th>2</th>\n",
       "      <td>[derechos, humanos]</td>\n",
       "      <td>top</td>\n",
       "      <td>2022-11-20</td>\n",
       "      <td>2023-02-20</td>\n",
       "      <td>0</td>\n",
       "      <td>vulnerar</td>\n",
       "      <td>46</td>\n",
       "    </tr>\n",
       "    <tr>\n",
       "      <th>3</th>\n",
       "      <td>[sinonimia]</td>\n",
       "      <td>top</td>\n",
       "      <td>2022-11-20</td>\n",
       "      <td>2023-02-20</td>\n",
       "      <td>0</td>\n",
       "      <td>vulnerar</td>\n",
       "      <td>46</td>\n",
       "    </tr>\n",
       "    <tr>\n",
       "      <th>4</th>\n",
       "      <td>[homo, sapiens]</td>\n",
       "      <td>top</td>\n",
       "      <td>2022-11-20</td>\n",
       "      <td>2023-02-20</td>\n",
       "      <td>0</td>\n",
       "      <td>vulnerar</td>\n",
       "      <td>46</td>\n",
       "    </tr>\n",
       "    <tr>\n",
       "      <th>5</th>\n",
       "      <td>[persona]</td>\n",
       "      <td>top</td>\n",
       "      <td>2022-11-20</td>\n",
       "      <td>2023-02-20</td>\n",
       "      <td>0</td>\n",
       "      <td>vulnerar</td>\n",
       "      <td>46</td>\n",
       "    </tr>\n",
       "  </tbody>\n",
       "</table>\n",
       "<p>924 rows × 7 columns</p>\n",
       "</div>"
      ],
      "text/plain": [
       "                                      descripcion     tipo      inicio  \\\n",
       "0                                   [red, social]  aumento  2022-11-20   \n",
       "1     [constitucion, politica, unidos, mexicanos]  aumento  2022-11-20   \n",
       "2                           [archivo, documentos]  aumento  2022-11-20   \n",
       "3                                 [clasificacion]  aumento  2022-11-20   \n",
       "4   [consejo, nacional, prevenir, discriminacion]  aumento  2022-11-20   \n",
       "..                                            ...      ...         ...   \n",
       "1                                      [derechos]      top  2022-11-20   \n",
       "2                             [derechos, humanos]      top  2022-11-20   \n",
       "3                                     [sinonimia]      top  2022-11-20   \n",
       "4                                 [homo, sapiens]      top  2022-11-20   \n",
       "5                                       [persona]      top  2022-11-20   \n",
       "\n",
       "           fin lote  criterio id_criterio  \n",
       "0   2023-02-20    0      inai           0  \n",
       "1   2023-02-20    0      inai           0  \n",
       "2   2023-02-20    0      inai           0  \n",
       "3   2023-02-20    0      inai           0  \n",
       "4   2023-02-20    0      inai           0  \n",
       "..         ...  ...       ...         ...  \n",
       "1   2023-02-20    0  vulnerar          46  \n",
       "2   2023-02-20    0  vulnerar          46  \n",
       "3   2023-02-20    0  vulnerar          46  \n",
       "4   2023-02-20    0  vulnerar          46  \n",
       "5   2023-02-20    0  vulnerar          46  \n",
       "\n",
       "[924 rows x 7 columns]"
      ]
     },
     "execution_count": 25,
     "metadata": {},
     "output_type": "execute_result"
    }
   ],
   "source": [
    "# Dataframe de resultados\n",
    "criterios_lote = pd.DataFrame(columns=['descripcion','tipo','inicio','fin','lote','criterio','id_criterio'])\n",
    "\n",
    "# Indicador del lote\n",
    "id_lote = 0\n",
    "\n",
    "# Iteradores\n",
    "criterios = range(len(contenido))\n",
    "tipos = range(len(contenido[0]['contenidos'][id_lote]['consulta']))\n",
    "\n",
    "for id_criterio, id_tipo in product(criterios, tipos):\n",
    "    # Parámetros de consulta en JSON\n",
    "    CRITERIO = contenido[id_criterio]['criterio']\n",
    "    LOTE = contenido[id_criterio]['contenidos'][id_lote]\n",
    "    INICIO = LOTE['fecha_inicio']\n",
    "    FIN = LOTE['fecha_fin']\n",
    "    TIPO = list( LOTE['consulta'].keys() )[id_tipo]\n",
    "\n",
    "    # Transformación de datos\n",
    "    df_ = (\n",
    "        pd.DataFrame(LOTE['consulta'][TIPO])\n",
    "        .filter(items=['descripcion'])\n",
    "        .assign(\n",
    "            tipo = TIPO\n",
    "            ,inicio = INICIO\n",
    "            ,fin = FIN\n",
    "            ,lote = id_lote\n",
    "            ,criterio = CRITERIO\n",
    "            ,id_criterio = id_criterio\n",
    "        )\n",
    "    )\n",
    "\n",
    "    # Agregar resultados a conjunto de análisis\n",
    "    criterios_lote = pd.concat([criterios_lote, df_], axis=0)\n",
    "\n",
    "criterios_lote"
   ]
  },
  {
   "cell_type": "markdown",
   "id": "ae0543d7-0364-4095-ac3c-319e7d0961d6",
   "metadata": {},
   "source": [
    "Ahora es necesario generar un corpus relativo al lote, para ello se definen dos objetos:\n",
    "\n",
    "* `corpus`: El corpus del lote, es decir, los tokens únicos de todos los documentos de todos los criterios de búsqueda para un lote dado\n",
    "* `docs_`: Un arreglo con todos los tokens enlistados aún cuando existan repetidos"
   ]
  },
  {
   "cell_type": "code",
   "execution_count": 26,
   "id": "fc2d2a18-f1eb-451e-9309-b85f39416b5d",
   "metadata": {},
   "outputs": [
    {
     "data": {
      "text/html": [
       "<div>\n",
       "<style scoped>\n",
       "    .dataframe tbody tr th:only-of-type {\n",
       "        vertical-align: middle;\n",
       "    }\n",
       "\n",
       "    .dataframe tbody tr th {\n",
       "        vertical-align: top;\n",
       "    }\n",
       "\n",
       "    .dataframe thead th {\n",
       "        text-align: right;\n",
       "    }\n",
       "</style>\n",
       "<table border=\"1\" class=\"dataframe\">\n",
       "  <thead>\n",
       "    <tr style=\"text-align: right;\">\n",
       "      <th></th>\n",
       "      <th>token</th>\n",
       "      <th>cuenta</th>\n",
       "      <th>prop</th>\n",
       "      <th>cum_prop</th>\n",
       "      <th>f</th>\n",
       "    </tr>\n",
       "  </thead>\n",
       "  <tbody>\n",
       "    <tr>\n",
       "      <th>0</th>\n",
       "      <td>vulnerabilidad</td>\n",
       "      <td>1</td>\n",
       "      <td>0.000657</td>\n",
       "      <td>0.000657</td>\n",
       "      <td>0.000000</td>\n",
       "    </tr>\n",
       "    <tr>\n",
       "      <th>1</th>\n",
       "      <td>hoja</td>\n",
       "      <td>1</td>\n",
       "      <td>0.000657</td>\n",
       "      <td>0.001314</td>\n",
       "      <td>0.002336</td>\n",
       "    </tr>\n",
       "    <tr>\n",
       "      <th>2</th>\n",
       "      <td>estudios</td>\n",
       "      <td>1</td>\n",
       "      <td>0.000657</td>\n",
       "      <td>0.001971</td>\n",
       "      <td>0.004673</td>\n",
       "    </tr>\n",
       "    <tr>\n",
       "      <th>3</th>\n",
       "      <td>superiores</td>\n",
       "      <td>1</td>\n",
       "      <td>0.000657</td>\n",
       "      <td>0.002628</td>\n",
       "      <td>0.007009</td>\n",
       "    </tr>\n",
       "    <tr>\n",
       "      <th>4</th>\n",
       "      <td>iztacala</td>\n",
       "      <td>1</td>\n",
       "      <td>0.000657</td>\n",
       "      <td>0.003285</td>\n",
       "      <td>0.009346</td>\n",
       "    </tr>\n",
       "    <tr>\n",
       "      <th>...</th>\n",
       "      <td>...</td>\n",
       "      <td>...</td>\n",
       "      <td>...</td>\n",
       "      <td>...</td>\n",
       "      <td>...</td>\n",
       "    </tr>\n",
       "    <tr>\n",
       "      <th>424</th>\n",
       "      <td>seguro</td>\n",
       "      <td>28</td>\n",
       "      <td>0.018397</td>\n",
       "      <td>0.891590</td>\n",
       "      <td>0.990654</td>\n",
       "    </tr>\n",
       "    <tr>\n",
       "      <th>425</th>\n",
       "      <td>derecho</td>\n",
       "      <td>30</td>\n",
       "      <td>0.019711</td>\n",
       "      <td>0.911301</td>\n",
       "      <td>0.992991</td>\n",
       "    </tr>\n",
       "    <tr>\n",
       "      <th>426</th>\n",
       "      <td>instituto</td>\n",
       "      <td>43</td>\n",
       "      <td>0.028252</td>\n",
       "      <td>0.939553</td>\n",
       "      <td>0.995327</td>\n",
       "    </tr>\n",
       "    <tr>\n",
       "      <th>427</th>\n",
       "      <td>social</td>\n",
       "      <td>43</td>\n",
       "      <td>0.028252</td>\n",
       "      <td>0.967806</td>\n",
       "      <td>0.997664</td>\n",
       "    </tr>\n",
       "    <tr>\n",
       "      <th>428</th>\n",
       "      <td>informacion</td>\n",
       "      <td>49</td>\n",
       "      <td>0.032194</td>\n",
       "      <td>1.000000</td>\n",
       "      <td>1.000000</td>\n",
       "    </tr>\n",
       "  </tbody>\n",
       "</table>\n",
       "<p>429 rows × 5 columns</p>\n",
       "</div>"
      ],
      "text/plain": [
       "              token  cuenta      prop  cum_prop         f\n",
       "0    vulnerabilidad       1  0.000657  0.000657  0.000000\n",
       "1              hoja       1  0.000657  0.001314  0.002336\n",
       "2          estudios       1  0.000657  0.001971  0.004673\n",
       "3        superiores       1  0.000657  0.002628  0.007009\n",
       "4          iztacala       1  0.000657  0.003285  0.009346\n",
       "..              ...     ...       ...       ...       ...\n",
       "424          seguro      28  0.018397  0.891590  0.990654\n",
       "425         derecho      30  0.019711  0.911301  0.992991\n",
       "426       instituto      43  0.028252  0.939553  0.995327\n",
       "427          social      43  0.028252  0.967806  0.997664\n",
       "428     informacion      49  0.032194  1.000000  1.000000\n",
       "\n",
       "[429 rows x 5 columns]"
      ]
     },
     "execution_count": 26,
     "metadata": {},
     "output_type": "execute_result"
    }
   ],
   "source": [
    "docs_ = (\n",
    "    criterios_lote\n",
    "    .descripcion\n",
    "    .explode()\n",
    ")\n",
    "\n",
    "corpus = pd.DataFrame(\n",
    "    docs_\n",
    "    .value_counts(ascending=True)\n",
    "    .reset_index()\n",
    "    .set_axis(['token','cuenta'], axis='columns')\n",
    "    .assign(\n",
    "        prop = lambda df_: df_.cuenta / df_.cuenta.sum(),\n",
    "        cum_prop = lambda df_: df_.prop.cumsum(),\n",
    "        f = lambda df_: (df_.index)/df_.index.max()\n",
    "    )\n",
    ")\n",
    "\n",
    "corpus"
   ]
  },
  {
   "cell_type": "markdown",
   "id": "3182e007-f065-468b-9aeb-c4487fd32b75",
   "metadata": {},
   "source": [
    "Ahora se hacen algunas visualizaciones interesantes:"
   ]
  },
  {
   "cell_type": "markdown",
   "id": "a452924e-109b-4f73-ac57-b98490687313",
   "metadata": {
    "tags": []
   },
   "source": [
    "**Código para gráfica de barras**\n",
    "\n",
    "```python\n",
    "n = 15\n",
    "\n",
    "cum_prop = corpus.tail(n).prop.sum()\n",
    "\n",
    "plt.barh(\n",
    "    y=corpus.tail(n).token\n",
    "    ,width=corpus.tail(n).cuenta\n",
    ")\n",
    "plt.title(\n",
    "    f'En los primeros {n} tokens se\\nacumula el {cum_prop*100:.0f}% de las ocurrencias del lote'\n",
    "    ,loc='left'\n",
    ")\n",
    "plt.xlabel('Cuenta')\n",
    "plt.grid(axis='x', alpha=0.1)\n",
    "\n",
    "plt.show()\n",
    "```\n",
    "\n",
    "**Código para distrbución de ocurrencias**\n",
    "```python\n",
    "plt.scatter(\n",
    "    x=corpus.f\n",
    "    ,y=corpus.cuenta\n",
    "    ,s=20\n",
    "    ,color='red'\n",
    "    ,alpha=0.25\n",
    ")\n",
    "\n",
    "# Anotaciones y estilo\n",
    "plt.title('Distribución de ocurrencias por token')\n",
    "plt.xlabel('Proporción de tokens')\n",
    "plt.ylabel('Ocurrencias')\n",
    "plt.xticks(np.arange(0,1.1,0.1))\n",
    "plt.grid(alpha=0.1)\n",
    "\n",
    "plt.show()\n",
    "```"
   ]
  },
  {
   "cell_type": "code",
   "execution_count": 47,
   "id": "939e556f-9246-4154-8dda-e43fccfe50ac",
   "metadata": {},
   "outputs": [
    {
     "data": {
      "image/png": "[encoded data removed]",
      "text/plain": [
       "<Figure size 1500x500 with 2 Axes>"
      ]
     },
     "metadata": {},
     "output_type": "display_data"
    }
   ],
   "source": [
    "# Especificaciones generales\n",
    "fig = plt.figure(figsize=(15,5))\n",
    "gs = plt.GridSpec(nrows=1, ncols=3, figure=fig, wspace=0.2, hspace=0.2)\n",
    "\n",
    "# ---- Primera gráfica del grid ----\n",
    "n = 15\n",
    "cum_prop = corpus.tail(n).prop.sum()\n",
    "\n",
    "# Espacio en figura general\n",
    "ax1 = fig.add_subplot(gs[0,:2])\n",
    "\n",
    "# Visualización\n",
    "ax1.barh(\n",
    "    y=corpus.tail(n).token\n",
    "    ,width=corpus.tail(n).cuenta\n",
    "    ,color=config['main']['tema']['verde']\n",
    ")\n",
    "\n",
    "# Anotaciones y estilo\n",
    "ax1.set_title(\n",
    "    f'En los primeros {n} tokens con más ocurrencias,\\nse acumula el {cum_prop*100:.0f}% de las ocurrencias totales del lote'\n",
    "    ,loc='left')\n",
    "ax1.set_xlabel('Cuenta')\n",
    "ax1.grid(axis='x', alpha=0.1)\n",
    "\n",
    "# ---- Segunda gráfica del grid ----\n",
    "\n",
    "# # Espacio en figura general\n",
    "ax2 = fig.add_subplot(gs[:,2])\n",
    "\n",
    "ax2.scatter(\n",
    "    x=corpus.f\n",
    "    ,y=corpus.cuenta\n",
    "    ,s=20\n",
    "    ,color=config['main']['tema']['morado']\n",
    "    ,alpha=0.25\n",
    ")\n",
    "\n",
    "# Anotaciones y estilo\n",
    "ax2.set_title('Distribución de ocurrencias por token', loc='left')\n",
    "ax2.set_xlabel('Proporción de tokens')\n",
    "ax2.set_ylabel('Ocurrencias')\n",
    "ax2.set_xticks(np.arange(0,1.1,0.1))\n",
    "ax2.grid(alpha=0.1)\n",
    "\n",
    "plt.show()"
   ]
  },
  {
   "cell_type": "code",
   "execution_count": null,
   "id": "58c7f2f5-f7a8-47a0-b0ca-b4238311b7f4",
   "metadata": {},
   "outputs": [],
   "source": []
  }
 ],
 "metadata": {
  "kernelspec": {
   "display_name": "Python 3 (ipykernel)",
   "language": "python",
   "name": "python3"
  },
  "language_info": {
   "codemirror_mode": {
    "name": "ipython",
    "version": 3
   },
   "file_extension": ".py",
   "mimetype": "text/x-python",
   "name": "python",
   "nbconvert_exporter": "python",
   "pygments_lexer": "ipython3",
   "version": "3.10.6"
  }
 },
 "nbformat": 4,
 "nbformat_minor": 5
}
