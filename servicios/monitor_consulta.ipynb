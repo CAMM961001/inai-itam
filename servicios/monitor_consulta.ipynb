{
 "cells": [
  {
   "cell_type": "markdown",
   "id": "da8c0adb-56e1-481d-b1d4-37adbd16ab0e",
   "metadata": {},
   "source": [
    "# Monitor de consulta\n",
    "\n",
    "Describir las funciones del monitor\n"
   ]
  },
  {
   "cell_type": "code",
   "execution_count": 1,
   "id": "a874b7a5-44c5-447d-9f30-c819200f2195",
   "metadata": {},
   "outputs": [],
   "source": [
    "import os, json, yaml\n",
    "import numpy as np\n",
    "import pandas as pd\n",
    "import matplotlib.pyplot as plt\n",
    "\n",
    "import modulos.consultas as consultas\n",
    "\n",
    "from ipywidgets import widgets"
   ]
  },
  {
   "cell_type": "code",
   "execution_count": 2,
   "id": "5850c8db-8fbe-40c9-bbb2-af4b825bf587",
   "metadata": {},
   "outputs": [],
   "source": [
    "# Paths absolutos\n",
    "__file__ = 'monitor_consulta.ipynb'\n",
    "CURRENT = os.path.dirname(os.path.abspath(__file__))\n",
    "ROOT = os.path.dirname(CURRENT)\n",
    "\n",
    "# Archivo de configuración\n",
    "with open(os.path.join(ROOT, 'config.yaml'), 'r') as f:\n",
    "    config = yaml.safe_load(f)\n",
    "f.close()\n",
    "\n",
    "# Paths de datos\n",
    "TIEMPO_PATH = os.path.join(ROOT, config['datos']['tiempo'])\n",
    "REGION_PATH = os.path.join(ROOT, config['datos']['region'])\n",
    "RELACI_PATH = os.path.join(ROOT, config['etl']['relacionados'])"
   ]
  },
  {
   "cell_type": "markdown",
   "id": "28d2edff-d5d3-492e-b888-1be9381dd8f1",
   "metadata": {},
   "source": [
    "# Interés en el tiempo\n",
    "Carga de datos"
   ]
  },
  {
   "cell_type": "code",
   "execution_count": 3,
   "id": "c10d33c5-8012-4b48-8b31-03b3ca99ba3c",
   "metadata": {},
   "outputs": [],
   "source": [
    "with open(file=TIEMPO_PATH, mode='r') as file:\n",
    "    contenido = json.load(file)\n",
    "file.close()"
   ]
  },
  {
   "cell_type": "markdown",
   "id": "d91c7af1-a5e0-48e3-9c8a-752a68099b76",
   "metadata": {},
   "source": [
    "## Porcentaje de criterios consultados (PCC)\n",
    "\n",
    "$$PCC = \\frac{\\#\\{criterios\\,consultados\\}}{\\#\\{criterios\\,búsqueda\\}}$$"
   ]
  },
  {
   "cell_type": "code",
   "execution_count": 4,
   "id": "a324771c-2e49-4ee3-be00-cef1e1bb1f8b",
   "metadata": {},
   "outputs": [],
   "source": [
    "# Criterios búsqueda\n",
    "with open(file=os.path.join(ROOT, config['datos']['criterios']), mode='r') as f:\n",
    "    criterios_busqueda = [row.strip() for row in f]        \n",
    "f.close()\n",
    "\n",
    "# Criterios consultados\n",
    "consultados = consultas.criterios_existentes(file=TIEMPO_PATH)"
   ]
  },
  {
   "cell_type": "markdown",
   "id": "35a5499a-f7df-4273-b1f8-5c41f5d8edcf",
   "metadata": {},
   "source": [
    "**PCC**"
   ]
  },
  {
   "cell_type": "code",
   "execution_count": 5,
   "id": "5f777d53-227c-4181-839f-429f7732ee1f",
   "metadata": {},
   "outputs": [
    {
     "name": "stdout",
     "output_type": "stream",
     "text": [
      "Pct. Criterios Consultados: 85.11%\n"
     ]
    }
   ],
   "source": [
    "pcc_tiempo = len(consultados) / len(criterios_busqueda)\n",
    "print(f'Pct. Criterios Consultados: {pcc_tiempo*100:.2f}%')"
   ]
  },
  {
   "cell_type": "markdown",
   "id": "ce59ebea-7f8a-4e1d-af96-61fccf8d8471",
   "metadata": {},
   "source": [
    "## Exploración tabular\n"
   ]
  },
  {
   "cell_type": "code",
   "execution_count": 6,
   "id": "fe18c63d-dc57-4e07-a62a-70b4e374c39d",
   "metadata": {
    "tags": []
   },
   "outputs": [
    {
     "data": {
      "application/vnd.jupyter.widget-view+json": {
       "model_id": "98918507c9854471b9fd5f6e2c8b68cd",
       "version_major": 2,
       "version_minor": 0
      },
      "text/plain": [
       "interactive(children=(Dropdown(description='Criterio', options=('inai', 'semanas cotizadas', 'expediente medic…"
      ]
     },
     "metadata": {},
     "output_type": "display_data"
    },
    {
     "data": {
      "text/plain": [
       "<function __main__.ver_tiempo(criterio)>"
      ]
     },
     "execution_count": 6,
     "metadata": {},
     "output_type": "execute_result"
    }
   ],
   "source": [
    "def ver_tiempo(criterio):\n",
    "    criterios = [contenido[k]['criterio'] for k in range(len(contenido))]\n",
    "    idx_criterio = criterios.index(criterio)\n",
    "    \n",
    "    consulta = contenido[idx_criterio]['contenidos']\n",
    "    \n",
    "    return pd.DataFrame(consulta).head()\n",
    "\n",
    "# consultas = list(contenido[0].keys())\n",
    "# consultas.remove(\"criterio\")\n",
    "\n",
    "widgets.interact(ver_tiempo,\n",
    "                 criterio=widgets.Dropdown(\n",
    "                     options=[contenido[k]['criterio'] for k in range(len(contenido))],\n",
    "                     description='Criterio',\n",
    "                     disabled=False)\n",
    "                )"
   ]
  },
  {
   "cell_type": "markdown",
   "id": "e5e95e64-3606-46c1-8c6c-c63da75753bb",
   "metadata": {},
   "source": [
    "## Visualización inicial"
   ]
  },
  {
   "cell_type": "code",
   "execution_count": 7,
   "id": "ae7d6294-d248-428d-92da-fbbee02867e1",
   "metadata": {},
   "outputs": [],
   "source": [
    "def plot_tiempo(criterio):\n",
    "    # Filtro de datos\n",
    "    criterios = [contenido[k]['criterio'] for k in range(len(contenido))]\n",
    "    idx_criterio = criterios.index(criterio)\n",
    "    consulta = contenido[idx_criterio]['contenidos']\n",
    "    over_time = pd.DataFrame(consulta)\n",
    "    over_time['fecha'] = pd.to_datetime(over_time['fecha'])\n",
    "    \n",
    "    # Visualización\n",
    "    fig, ax = plt.subplots(figsize=(16,6))\n",
    "\n",
    "    scatter = ax.scatter(x=over_time['fecha'], y=over_time['valor'], c=over_time['parcial'], cmap='Paired')\n",
    "    ax.plot(over_time['fecha'], over_time['valor'], color='black', alpha=0.25)\n",
    "\n",
    "    #Anotaciones y estilo\n",
    "    ax.set_title(label=f'Interés a lo largo del tiempo - {criterio.title()}\\nÚltimos {config[\"etl\"][\"anios\"]} años', fontsize=14, loc='left')\n",
    "    ax.legend(*scatter.legend_elements(), loc=\"upper left\", title=\"Parcial\")\n",
    "    ax.grid(alpha=0.1)\n",
    "\n",
    "    plt.show()"
   ]
  },
  {
   "cell_type": "code",
   "execution_count": 8,
   "id": "67b16094-a9f7-4409-8ea1-5ba67c94c5af",
   "metadata": {
    "tags": []
   },
   "outputs": [
    {
     "data": {
      "application/vnd.jupyter.widget-view+json": {
       "model_id": "0892fb09c091418fa1114900aa27cd9d",
       "version_major": 2,
       "version_minor": 0
      },
      "text/plain": [
       "interactive(children=(Dropdown(description='Criterio', options=('inai', 'semanas cotizadas', 'expediente medic…"
      ]
     },
     "metadata": {},
     "output_type": "display_data"
    },
    {
     "data": {
      "text/plain": [
       "<function __main__.plot_tiempo(criterio)>"
      ]
     },
     "execution_count": 8,
     "metadata": {},
     "output_type": "execute_result"
    }
   ],
   "source": [
    "widgets.interact(plot_tiempo,\n",
    "                 criterio=widgets.Dropdown(\n",
    "                     options=[contenido[k]['criterio'] for k in range(len(contenido))],\n",
    "                     description='Criterio',\n",
    "                     disabled=False)\n",
    "                )"
   ]
  },
  {
   "cell_type": "markdown",
   "id": "473e0f1c-b290-4282-a986-b977f28fd3c3",
   "metadata": {},
   "source": [
    "# Interés región\n",
    "Carga de datos"
   ]
  },
  {
   "cell_type": "code",
   "execution_count": 9,
   "id": "436e915f-b915-4784-92d1-c31c217a397e",
   "metadata": {},
   "outputs": [],
   "source": [
    "with open(file=REGION_PATH, mode='r') as file:\n",
    "    contenido = json.load(file)\n",
    "file.close()"
   ]
  },
  {
   "cell_type": "markdown",
   "id": "56a99431-1319-4651-8711-0cdcb4402702",
   "metadata": {},
   "source": [
    "## Porcentaje de criterios consultados (PCC)\n",
    "\n",
    "$$PCC = \\frac{\\#\\{criterios\\,consultados\\}}{\\#\\{criterios\\,búsqueda\\}}$$"
   ]
  },
  {
   "cell_type": "code",
   "execution_count": 10,
   "id": "496480cb-5a59-40af-9130-456af07797e7",
   "metadata": {},
   "outputs": [],
   "source": [
    "# Criterios consultados\n",
    "consultados = consultas.criterios_existentes(file=REGION_PATH)"
   ]
  },
  {
   "cell_type": "markdown",
   "id": "4f70cd32-73b7-4125-9a61-be151b199798",
   "metadata": {},
   "source": [
    "**PCC**"
   ]
  },
  {
   "cell_type": "code",
   "execution_count": 11,
   "id": "70da4527-e968-453d-8e39-7356937de2df",
   "metadata": {},
   "outputs": [
    {
     "name": "stdout",
     "output_type": "stream",
     "text": [
      "Pct. Criterios Consultados: 100.00%\n"
     ]
    }
   ],
   "source": [
    "pcc_tiempo = len(consultados) / len(criterios_busqueda)\n",
    "print(f'Pct. Criterios Consultados: {pcc_tiempo*100:.2f}%')"
   ]
  },
  {
   "cell_type": "markdown",
   "id": "723ff283-532e-4471-813d-4ad4628486dc",
   "metadata": {},
   "source": [
    "## Exploración tabular\n"
   ]
  },
  {
   "cell_type": "code",
   "execution_count": 12,
   "id": "1cbfedcb-07de-4e87-af93-64e7fc66f7b5",
   "metadata": {
    "tags": []
   },
   "outputs": [
    {
     "data": {
      "application/vnd.jupyter.widget-view+json": {
       "model_id": "6aed4610a76e40f19748ccf331b7ea74",
       "version_major": 2,
       "version_minor": 0
      },
      "text/plain": [
       "interactive(children=(Dropdown(description='Criterio', options=('inai', 'semanas cotizadas', 'expediente medic…"
      ]
     },
     "metadata": {},
     "output_type": "display_data"
    },
    {
     "data": {
      "text/plain": [
       "<function __main__.ver_region(criterio, periodo)>"
      ]
     },
     "execution_count": 12,
     "metadata": {},
     "output_type": "execute_result"
    }
   ],
   "source": [
    "def ver_region(criterio, periodo):\n",
    "    criterios = [contenido[k]['criterio'] for k in range(len(contenido))]\n",
    "    idx_criterio = criterios.index(criterio)\n",
    "    \n",
    "    consulta = contenido[idx_criterio]['contenidos']\n",
    "    consulta = consulta[periodo]['consulta']\n",
    "    \n",
    "    return pd.DataFrame(consulta).head()\n",
    "\n",
    "widgets.interact(ver_region,\n",
    "                 criterio=widgets.Dropdown(\n",
    "                     options=[contenido[k]['criterio'] for k in range(len(contenido))],\n",
    "                     description='Criterio',\n",
    "                     disabled=False),\n",
    "                 periodo=widgets.IntSlider(\n",
    "                     min=0,\n",
    "                     max=len(contenido[0][\"contenidos\"])-1,\n",
    "                     step=1,\n",
    "                     description='Periodo')\n",
    "                )"
   ]
  },
  {
   "cell_type": "markdown",
   "id": "9b8b6f41-767c-4678-84cd-08757b5edf1c",
   "metadata": {},
   "source": [
    "# Temas relacionados\n",
    "Carga de datos"
   ]
  },
  {
   "cell_type": "code",
   "execution_count": 13,
   "id": "487fb0ae-47af-4023-a4dd-362e88d4923b",
   "metadata": {},
   "outputs": [],
   "source": [
    "with open(file=RELACI_PATH, mode='r') as file:\n",
    "    contenido = json.load(file)\n",
    "file.close()"
   ]
  },
  {
   "cell_type": "markdown",
   "id": "9d2b1208",
   "metadata": {},
   "source": [
    "## Inspección tabular"
   ]
  },
  {
   "cell_type": "code",
   "execution_count": 14,
   "id": "aad1d224-f55a-4d19-a059-48934c3344a4",
   "metadata": {
    "tags": []
   },
   "outputs": [
    {
     "data": {
      "application/vnd.jupyter.widget-view+json": {
       "model_id": "4d7860a8113f437d81aa088e75f0d79f",
       "version_major": 2,
       "version_minor": 0
      },
      "text/plain": [
       "interactive(children=(Dropdown(description='Criterio', options=('inai', 'semanas cotizadas', 'expediente medic…"
      ]
     },
     "metadata": {},
     "output_type": "display_data"
    },
    {
     "data": {
      "text/plain": [
       "<function __main__.ver_relacionados(criterio, periodo, tipo)>"
      ]
     },
     "execution_count": 14,
     "metadata": {},
     "output_type": "execute_result"
    }
   ],
   "source": [
    "def ver_relacionados(criterio, periodo, tipo):\n",
    "    criterios = [contenido[k]['criterio'] for k in range(len(contenido))]\n",
    "    idx_criterio = criterios.index(criterio)\n",
    "    \n",
    "    consulta = contenido[idx_criterio]['contenidos']\n",
    "    consulta = consulta[periodo]['consulta']\n",
    "\n",
    "    consulta = pd.DataFrame(consulta[tipo])\n",
    "    \n",
    "    return pd.DataFrame(consulta).head()\n",
    "\n",
    "widgets.interact(\n",
    "    ver_relacionados,\n",
    "    criterio=widgets.Dropdown(\n",
    "        options=[contenido[k]['criterio'] for k in range(len(contenido))],\n",
    "        description='Criterio',\n",
    "        disabled=False),\n",
    "    periodo=widgets.IntSlider(\n",
    "        min=0,\n",
    "        max=len(contenido[0][\"contenidos\"])-1,\n",
    "        step=1,\n",
    "        description='Periodo'),\n",
    "    tipo=widgets.Dropdown(\n",
    "        options=['top','aumento'],\n",
    "        description='Tipo',\n",
    "        disabled=False)                \n",
    ")"
   ]
  },
  {
   "cell_type": "markdown",
   "id": "bbe71ccd-4bdd-427c-ab16-444c26ae0dc8",
   "metadata": {
    "tags": []
   },
   "source": [
    "## Descripción del corpus\n",
    "\n",
    "¿Cuántas palabras únicas hay en todo el corpus?"
   ]
  },
  {
   "cell_type": "code",
   "execution_count": 15,
   "id": "63c0c2c8-cb61-47e2-b3d4-91b3dd112b2d",
   "metadata": {},
   "outputs": [
    {
     "data": {
      "text/plain": [
       "1236"
      ]
     },
     "execution_count": 15,
     "metadata": {},
     "output_type": "execute_result"
    }
   ],
   "source": [
    "corpus = list()\n",
    "n_criterios = len(contenido)\n",
    "for id_criterio in range(n_criterios):\n",
    "    \n",
    "    # Extraer lotes de consulta\n",
    "    lotes = contenido[id_criterio]['contenidos']\n",
    "    n_lotes = len(lotes)\n",
    "    \n",
    "    for id_lote in range(n_lotes):\n",
    "        \n",
    "        # Extraer el tipo de consulta del lote\n",
    "        tipos = lotes[id_lote]['consulta']\n",
    "\n",
    "        for tipo in tipos.keys():\n",
    "            try:\n",
    "                # Agregar token a corpus\n",
    "                for doc_ in tipos[tipo]['descripcion'].values():\n",
    "                    [corpus.append(word) for word in doc_ if word not in corpus]\n",
    "\n",
    "            except TypeError:\n",
    "                continue\n",
    "\n",
    "corpus = {'token':corpus}\n",
    "len(corpus['token'])"
   ]
  },
  {
   "cell_type": "markdown",
   "id": "a0af4ed6",
   "metadata": {},
   "source": [
    "¿Cuáles son las palabras más frecuentes?"
   ]
  },
  {
   "cell_type": "code",
   "execution_count": 16,
   "id": "47822e36",
   "metadata": {
    "tags": []
   },
   "outputs": [],
   "source": [
    "def frecuencia_tokens(token):\n",
    "    k = 0\n",
    "    n_criterios = len(contenido)\n",
    "    for id_criterio in range(n_criterios):\n",
    "        \n",
    "        # Extraer lotes de consulta\n",
    "        lotes = contenido[id_criterio]['contenidos']\n",
    "        n_lotes = len(lotes)\n",
    "        \n",
    "        for id_lote in range(n_lotes):\n",
    "            \n",
    "            # Extraer el tipo de consulta del lote\n",
    "            tipos = lotes[id_lote]['consulta']\n",
    "\n",
    "            for tipo in tipos.keys():\n",
    "                try:\n",
    "                    # Agregar token a corpus\n",
    "                    for doc_ in tipos[tipo]['descripcion'].values():\n",
    "                        for word in doc_:\n",
    "                            if word == token: k += 1\n",
    "\n",
    "                except TypeError:\n",
    "                    continue\n",
    "\n",
    "    return k"
   ]
  },
  {
   "cell_type": "code",
   "execution_count": 17,
   "id": "13073872-7763-492a-acd2-d805edf0b242",
   "metadata": {
    "tags": []
   },
   "outputs": [],
   "source": [
    "frecuencia = []\n",
    "for token in corpus['token']:\n",
    "    k = frecuencia_tokens(token)\n",
    "    frecuencia.append(k)\n",
    "\n",
    "corpus['cuenta'] = frecuencia\n",
    "\n",
    "corpus = pd.DataFrame(corpus)"
   ]
  },
  {
   "cell_type": "code",
   "execution_count": 18,
   "id": "6e347b82-d0de-47fd-901a-7a0ebb641c21",
   "metadata": {},
   "outputs": [
    {
     "data": {
      "text/plain": [
       "<AxesSubplot: ylabel='token'>"
      ]
     },
     "execution_count": 18,
     "metadata": {},
     "output_type": "execute_result"
    },
    {
     "data": {
      "image/png": "[encoded data removed]",
      "text/plain": [
       "<Figure size 640x480 with 1 Axes>"
      ]
     },
     "metadata": {},
     "output_type": "display_data"
    }
   ],
   "source": [
    "(\n",
    "    corpus\n",
    "    .sort_values(by='cuenta', ascending=True)\n",
    "    .tail(20)\n",
    "    .plot.barh(x='token', y='cuenta')\n",
    ")"
   ]
  },
  {
   "cell_type": "code",
   "execution_count": null,
   "id": "e2161859",
   "metadata": {
    "tags": []
   },
   "outputs": [],
   "source": []
  }
 ],
 "metadata": {
  "kernelspec": {
   "display_name": "Python 3 (ipykernel)",
   "language": "python",
   "name": "python3"
  },
  "language_info": {
   "codemirror_mode": {
    "name": "ipython",
    "version": 3
   },
   "file_extension": ".py",
   "mimetype": "text/x-python",
   "name": "python",
   "nbconvert_exporter": "python",
   "pygments_lexer": "ipython3",
   "version": "3.10.6"
  }
 },
 "nbformat": 4,
 "nbformat_minor": 5
}
