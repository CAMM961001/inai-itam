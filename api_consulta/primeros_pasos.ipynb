{
 "cells": [
  {
   "cell_type": "code",
   "execution_count": 1,
   "id": "c72ea5b1-3424-4ce9-a3a1-aac3ce4ecd62",
   "metadata": {},
   "outputs": [],
   "source": [
    "import numpy as np\n",
    "import pandas as pd\n",
    "import matplotlib.pyplot as plt\n",
    "import datetime as dt\n",
    "import json"
   ]
  },
  {
   "cell_type": "markdown",
   "id": "5fe53aaf-e468-4b66-a74c-0219f949b35d",
   "metadata": {},
   "source": [
    "# Google Trends API para Python\n",
    "\n",
    "Se pretende utilizar una API que nos permita hacer consultas a Google Trends con las siguientes características:\n",
    "* Hacer consultas históricas con palabras clave\n",
    "* Hacer consultas en tiempo real\n",
    "* API preferentemente libre\n",
    "\n",
    "La selección es a criterio del equipo, siempre que satisfaga los puntos anteriores."
   ]
  },
  {
   "cell_type": "markdown",
   "id": "744a1bbf-5c9d-4921-97cd-72bfacb4beac",
   "metadata": {},
   "source": [
    "# Pytrends\n",
    "\n",
    "En el siguiente [enlace](https://pypi.org/project/pytrends/) se puede encontrar la documentación oficial de la API.\n",
    "\n",
    "Para la instalación del módulo utilizar el siguiente comando:\n",
    ">```python\n",
    ">pip install pytrends\n",
    ">```"
   ]
  },
  {
   "cell_type": "markdown",
   "id": "753cd0a2-22f6-4bc1-b206-6f7d23fac223",
   "metadata": {},
   "source": [
    "## Conexión a Google\n",
    "Ejecutar para obtener PATH de la API:\n",
    "```python\n",
    "import pytrends\n",
    "pytrends.__file__\n",
    "```\n",
    "\n",
    "Primero se inicia un **objeto de conexión**.\n",
    "```python\n",
    "pytrends = TrendReq(hl='es-MX',\n",
    "                    tz=300,\n",
    "                    geo='MX',\n",
    "                    timeout=(2,5),\n",
    "                    proxies='',\n",
    "                    retries=2,\n",
    "                    backoff_factor=0,\n",
    "                    requests_args=None)\n",
    "```\n",
    "\n",
    "Después se define la **carga de consulta** o [payload](https://openwebinars.net/blog/que-es-payload/)\n",
    "```python\n",
    "kw_list = ['certificado']\n",
    "pytrends.build_payload(kw_list,\n",
    "                       cat=0,\n",
    "                       timeframe='today 5-y',\n",
    "                       geo='MX',\n",
    "                       gprop='')\n",
    "```"
   ]
  },
  {
   "cell_type": "code",
   "execution_count": 2,
   "id": "5f1d8a55-83f9-4954-9c97-d2b8bbdc754a",
   "metadata": {},
   "outputs": [],
   "source": [
    "from pytrends.request import TrendReq"
   ]
  },
  {
   "cell_type": "markdown",
   "id": "5dac869d-8494-49ba-99cc-80a13fd58fbb",
   "metadata": {
    "tags": []
   },
   "source": [
    "## Métodos de la API\n",
    "Los métodos de `pytrends` típicamente utilizan los siguientes parámetros:\n",
    "* `kw_list`: Lista de pálabras clave o criterios de búsqueda\n",
    "* `cat`: Categoría para reducir resultados\n",
    "* `geo`: Abrebiación de dos letras de un país.\n",
    "* `tz`: Offset de zona horaria en minutos, para más información ir a la [liga](https://en.wikipedia.org/wiki/UTC_offset)\n",
    "* `timeframe`: Ventana de tiempo de consulta\n",
    "* `gprop`: (Metadato) Propiedad de google que se quiere filtrar\n",
    "\n",
    "Y permite consultar información a través de los siguientes métodos:\n",
    "\n",
    "### Interés en el tiempo\n",
    "Regresa datos históricos indexados para los momentos en los que los criterios de búsqueda, definidos en `kw_list`, tuvieron una mayor cantidad de búsquedas.\n",
    "\n",
    "`Extraido de Google Trends`:\n",
    ">Los números representan el interés de búsqueda en relación con el valor máximo de la lista correspondiente a la región y el período especificados. El valor 100 indica la popularidad máxima del término, 50 implica la mitad de popularidad, y 0 significa que no hubo suficientes datos para este término"
   ]
  },
  {
   "cell_type": "code",
   "execution_count": 3,
   "id": "12cfa3c5-07e3-4db5-abba-df8b5df61352",
   "metadata": {},
   "outputs": [],
   "source": [
    "def pytrends(kw_list, cat=0, timeframe='today 5-y'):\n",
    "    query = TrendReq(hl='es-MX', tz=300, geo='MX')\n",
    "    query.build_payload(kw_list=kw_list, cat=cat, timeframe=timeframe, geo='MX')\n",
    "    \n",
    "    return query"
   ]
  },
  {
   "cell_type": "code",
   "execution_count": 4,
   "id": "58630b78-9683-490e-b762-1639a3ae4e1f",
   "metadata": {},
   "outputs": [
    {
     "data": {
      "text/html": [
       "<div>\n",
       "<style scoped>\n",
       "    .dataframe tbody tr th:only-of-type {\n",
       "        vertical-align: middle;\n",
       "    }\n",
       "\n",
       "    .dataframe tbody tr th {\n",
       "        vertical-align: top;\n",
       "    }\n",
       "\n",
       "    .dataframe thead th {\n",
       "        text-align: right;\n",
       "    }\n",
       "</style>\n",
       "<table border=\"1\" class=\"dataframe\">\n",
       "  <thead>\n",
       "    <tr style=\"text-align: right;\">\n",
       "      <th></th>\n",
       "      <th>certificado</th>\n",
       "      <th>isPartial</th>\n",
       "    </tr>\n",
       "    <tr>\n",
       "      <th>date</th>\n",
       "      <th></th>\n",
       "      <th></th>\n",
       "    </tr>\n",
       "  </thead>\n",
       "  <tbody>\n",
       "    <tr>\n",
       "      <th>2022-10-02</th>\n",
       "      <td>14</td>\n",
       "      <td>False</td>\n",
       "    </tr>\n",
       "    <tr>\n",
       "      <th>2022-10-09</th>\n",
       "      <td>11</td>\n",
       "      <td>False</td>\n",
       "    </tr>\n",
       "    <tr>\n",
       "      <th>2022-10-16</th>\n",
       "      <td>13</td>\n",
       "      <td>False</td>\n",
       "    </tr>\n",
       "    <tr>\n",
       "      <th>2022-10-23</th>\n",
       "      <td>11</td>\n",
       "      <td>False</td>\n",
       "    </tr>\n",
       "    <tr>\n",
       "      <th>2022-10-30</th>\n",
       "      <td>10</td>\n",
       "      <td>True</td>\n",
       "    </tr>\n",
       "  </tbody>\n",
       "</table>\n",
       "</div>"
      ],
      "text/plain": [
       "            certificado  isPartial\n",
       "date                              \n",
       "2022-10-02           14      False\n",
       "2022-10-09           11      False\n",
       "2022-10-16           13      False\n",
       "2022-10-23           11      False\n",
       "2022-10-30           10       True"
      ]
     },
     "execution_count": 4,
     "metadata": {},
     "output_type": "execute_result"
    }
   ],
   "source": [
    "query = pytrends(['certificado'])\n",
    "\n",
    "over_time = query.interest_over_time()\n",
    "over_time.tail()"
   ]
  },
  {
   "cell_type": "code",
   "execution_count": 5,
   "id": "8551a060-1ce3-44c4-b16c-48ea7a8727fe",
   "metadata": {},
   "outputs": [
    {
     "data": {
      "image/png": "[encoded data removed]",
      "text/plain": [
       "<Figure size 1152x432 with 1 Axes>"
      ]
     },
     "metadata": {
      "needs_background": "light"
     },
     "output_type": "display_data"
    }
   ],
   "source": [
    "fig, ax = plt.subplots(figsize=(16,6))\n",
    "\n",
    "scatter = ax.scatter(x=over_time.index, y=over_time['certificado'], c=over_time['isPartial'], cmap='Paired')\n",
    "ax.plot(over_time.index, over_time['certificado'], color='black', alpha=0.25)\n",
    "\n",
    "#Anotaciones y estilo\n",
    "ax.set_title(label='Interés histórico en: CERTIFICADO', fontsize=14)\n",
    "ax.legend(*scatter.legend_elements(), loc=\"upper left\", title=\"isPartial\")\n",
    "ax.grid(alpha=0.2)\n",
    "\n",
    "plt.show()"
   ]
  },
  {
   "cell_type": "markdown",
   "id": "59d2a238-3645-4e5f-bc67-c63a0c81fd66",
   "metadata": {},
   "source": [
    "### Interés en el tiempo por hora\n",
    "Regresa datos históricos por hora, indexados para los momentos en los que los criterios de búsqueda, definidos en `kw_list`, tuvieron una mayor cantidad de búsquedas.\n",
    "\n",
    "El significado del valor de la consulta es el mismo que en `interés en el tiempo`"
   ]
  },
  {
   "cell_type": "code",
   "execution_count": 6,
   "id": "18fdfc2d-d566-4508-8a16-bf4e215c1569",
   "metadata": {},
   "outputs": [
    {
     "data": {
      "text/plain": [
       "{'comparisonItem': [{'keyword': 'certificado',\n",
       "   'time': 'today 5-y',\n",
       "   'geo': 'MX'}],\n",
       " 'category': 0,\n",
       " 'property': ''}"
      ]
     },
     "execution_count": 6,
     "metadata": {},
     "output_type": "execute_result"
    }
   ],
   "source": [
    "json.loads(query.token_payload['req'])"
   ]
  },
  {
   "cell_type": "code",
   "execution_count": 7,
   "id": "697be06d-f8d5-47c0-8b6b-32079c764bfb",
   "metadata": {
    "tags": []
   },
   "outputs": [],
   "source": [
    "def get_intraday(query, delta=10, frequency='hourly'):\n",
    "    now = dt.datetime.now()\n",
    "    delta = now - dt.timedelta(days=delta)\n",
    "    search_params = json.loads(query.token_payload['req'])\n",
    "    \n",
    "    intraday = query.get_historical_interest(keywords=query.kw_list,\n",
    "                                             year_start=delta.year,\n",
    "                                             month_start=delta.month,\n",
    "                                             day_start=delta.day,\n",
    "                                             hour_start=delta.hour,\n",
    "                                             year_end=now.year,\n",
    "                                             month_end=now.month,\n",
    "                                             day_end=now.day,\n",
    "                                             hour_end=now.hour,\n",
    "                                             cat=search_params['category'],\n",
    "                                             geo=search_params['comparisonItem'][0]['geo'],\n",
    "                                             frequency=frequency)\n",
    "    \n",
    "    return intraday"
   ]
  },
  {
   "cell_type": "code",
   "execution_count": 8,
   "id": "5acdd6fd-c5b2-4d1d-871a-aac86ffa448c",
   "metadata": {},
   "outputs": [
    {
     "data": {
      "text/html": [
       "<div>\n",
       "<style scoped>\n",
       "    .dataframe tbody tr th:only-of-type {\n",
       "        vertical-align: middle;\n",
       "    }\n",
       "\n",
       "    .dataframe tbody tr th {\n",
       "        vertical-align: top;\n",
       "    }\n",
       "\n",
       "    .dataframe thead th {\n",
       "        text-align: right;\n",
       "    }\n",
       "</style>\n",
       "<table border=\"1\" class=\"dataframe\">\n",
       "  <thead>\n",
       "    <tr style=\"text-align: right;\">\n",
       "      <th></th>\n",
       "      <th>certificado</th>\n",
       "      <th>isPartial</th>\n",
       "    </tr>\n",
       "    <tr>\n",
       "      <th>date</th>\n",
       "      <th></th>\n",
       "      <th></th>\n",
       "    </tr>\n",
       "  </thead>\n",
       "  <tbody>\n",
       "    <tr>\n",
       "      <th>2022-11-08 12:00:00</th>\n",
       "      <td>40</td>\n",
       "      <td>False</td>\n",
       "    </tr>\n",
       "    <tr>\n",
       "      <th>2022-11-08 13:00:00</th>\n",
       "      <td>43</td>\n",
       "      <td>False</td>\n",
       "    </tr>\n",
       "    <tr>\n",
       "      <th>2022-11-08 14:00:00</th>\n",
       "      <td>64</td>\n",
       "      <td>False</td>\n",
       "    </tr>\n",
       "    <tr>\n",
       "      <th>2022-11-08 15:00:00</th>\n",
       "      <td>72</td>\n",
       "      <td>False</td>\n",
       "    </tr>\n",
       "    <tr>\n",
       "      <th>2022-11-08 16:00:00</th>\n",
       "      <td>82</td>\n",
       "      <td>False</td>\n",
       "    </tr>\n",
       "  </tbody>\n",
       "</table>\n",
       "</div>"
      ],
      "text/plain": [
       "                     certificado  isPartial\n",
       "date                                       \n",
       "2022-11-08 12:00:00           40      False\n",
       "2022-11-08 13:00:00           43      False\n",
       "2022-11-08 14:00:00           64      False\n",
       "2022-11-08 15:00:00           72      False\n",
       "2022-11-08 16:00:00           82      False"
      ]
     },
     "execution_count": 8,
     "metadata": {},
     "output_type": "execute_result"
    }
   ],
   "source": [
    "hourly = get_intraday(query)\n",
    "hourly.tail()"
   ]
  },
  {
   "cell_type": "code",
   "execution_count": 9,
   "id": "fdef1d61-db7c-4786-83e6-9c41e8696144",
   "metadata": {},
   "outputs": [
    {
     "data": {
      "text/html": [
       "<div>\n",
       "<style scoped>\n",
       "    .dataframe tbody tr th:only-of-type {\n",
       "        vertical-align: middle;\n",
       "    }\n",
       "\n",
       "    .dataframe tbody tr th {\n",
       "        vertical-align: top;\n",
       "    }\n",
       "\n",
       "    .dataframe thead th {\n",
       "        text-align: right;\n",
       "    }\n",
       "</style>\n",
       "<table border=\"1\" class=\"dataframe\">\n",
       "  <thead>\n",
       "    <tr style=\"text-align: right;\">\n",
       "      <th></th>\n",
       "      <th>date</th>\n",
       "      <th>certificado</th>\n",
       "      <th>isPartial</th>\n",
       "      <th>hour</th>\n",
       "    </tr>\n",
       "  </thead>\n",
       "  <tbody>\n",
       "    <tr>\n",
       "      <th>237</th>\n",
       "      <td>2022-11-08 12:00:00</td>\n",
       "      <td>40</td>\n",
       "      <td>False</td>\n",
       "      <td>12</td>\n",
       "    </tr>\n",
       "    <tr>\n",
       "      <th>238</th>\n",
       "      <td>2022-11-08 13:00:00</td>\n",
       "      <td>43</td>\n",
       "      <td>False</td>\n",
       "      <td>13</td>\n",
       "    </tr>\n",
       "    <tr>\n",
       "      <th>239</th>\n",
       "      <td>2022-11-08 14:00:00</td>\n",
       "      <td>64</td>\n",
       "      <td>False</td>\n",
       "      <td>14</td>\n",
       "    </tr>\n",
       "    <tr>\n",
       "      <th>240</th>\n",
       "      <td>2022-11-08 15:00:00</td>\n",
       "      <td>72</td>\n",
       "      <td>False</td>\n",
       "      <td>15</td>\n",
       "    </tr>\n",
       "    <tr>\n",
       "      <th>241</th>\n",
       "      <td>2022-11-08 16:00:00</td>\n",
       "      <td>82</td>\n",
       "      <td>False</td>\n",
       "      <td>16</td>\n",
       "    </tr>\n",
       "  </tbody>\n",
       "</table>\n",
       "</div>"
      ],
      "text/plain": [
       "                   date  certificado  isPartial  hour\n",
       "237 2022-11-08 12:00:00           40      False    12\n",
       "238 2022-11-08 13:00:00           43      False    13\n",
       "239 2022-11-08 14:00:00           64      False    14\n",
       "240 2022-11-08 15:00:00           72      False    15\n",
       "241 2022-11-08 16:00:00           82      False    16"
      ]
     },
     "execution_count": 9,
     "metadata": {},
     "output_type": "execute_result"
    }
   ],
   "source": [
    "hourly.reset_index(inplace=True)\n",
    "hourly['hour'] = hourly['date'].dt.hour\n",
    "\n",
    "hourly.tail()"
   ]
  },
  {
   "cell_type": "code",
   "execution_count": 10,
   "id": "95eb54ed-d01b-47ac-8eea-d5f9b0423f20",
   "metadata": {},
   "outputs": [
    {
     "data": {
      "image/png": "[encoded data removed]",
      "text/plain": [
       "<Figure size 1152x432 with 1 Axes>"
      ]
     },
     "metadata": {
      "needs_background": "light"
     },
     "output_type": "display_data"
    }
   ],
   "source": [
    "ax = hourly.boxplot(by='hour', column='certificado', figsize=(16,6), vert=True, color='black')\n",
    "\n",
    "#Anotaciones y estilo\n",
    "ax.set_title(label='Distribución de interés por hora en: CERTIFICADO\\nÚltimos 10 días', fontsize=14)\n",
    "ax.set_xlabel('hora', fontsize=12)\n",
    "ax.grid(alpha=0.2)\n",
    "\n",
    "plt.suptitle('')\n",
    "plt.show()"
   ]
  },
  {
   "cell_type": "markdown",
   "id": "1fb97928-57d3-41fd-bec6-8f022832c907",
   "metadata": {},
   "source": [
    "### Interés por región\n",
    "\n",
    "Regresa las regiones en las cuales la palabra clave fue más buscada"
   ]
  },
  {
   "cell_type": "code",
   "execution_count": 12,
   "id": "fe21dd96-48e6-4c4a-8e84-ac30263ee474",
   "metadata": {},
   "outputs": [
    {
     "data": {
      "text/html": [
       "<div>\n",
       "<style scoped>\n",
       "    .dataframe tbody tr th:only-of-type {\n",
       "        vertical-align: middle;\n",
       "    }\n",
       "\n",
       "    .dataframe tbody tr th {\n",
       "        vertical-align: top;\n",
       "    }\n",
       "\n",
       "    .dataframe thead th {\n",
       "        text-align: right;\n",
       "    }\n",
       "</style>\n",
       "<table border=\"1\" class=\"dataframe\">\n",
       "  <thead>\n",
       "    <tr style=\"text-align: right;\">\n",
       "      <th></th>\n",
       "      <th>geoCode</th>\n",
       "      <th>certificado</th>\n",
       "    </tr>\n",
       "    <tr>\n",
       "      <th>geoName</th>\n",
       "      <th></th>\n",
       "      <th></th>\n",
       "    </tr>\n",
       "  </thead>\n",
       "  <tbody>\n",
       "    <tr>\n",
       "      <th>Hidalgo</th>\n",
       "      <td>MX-HID</td>\n",
       "      <td>81</td>\n",
       "    </tr>\n",
       "    <tr>\n",
       "      <th>Campeche</th>\n",
       "      <td>MX-CAM</td>\n",
       "      <td>83</td>\n",
       "    </tr>\n",
       "    <tr>\n",
       "      <th>Tlaxcala</th>\n",
       "      <td>MX-TLA</td>\n",
       "      <td>92</td>\n",
       "    </tr>\n",
       "    <tr>\n",
       "      <th>Guerrero</th>\n",
       "      <td>MX-GRO</td>\n",
       "      <td>100</td>\n",
       "    </tr>\n",
       "    <tr>\n",
       "      <th>Coahuila de Zaragoza</th>\n",
       "      <td>MX-COA</td>\n",
       "      <td>100</td>\n",
       "    </tr>\n",
       "  </tbody>\n",
       "</table>\n",
       "</div>"
      ],
      "text/plain": [
       "                     geoCode  certificado\n",
       "geoName                                  \n",
       "Hidalgo               MX-HID           81\n",
       "Campeche              MX-CAM           83\n",
       "Tlaxcala              MX-TLA           92\n",
       "Guerrero              MX-GRO          100\n",
       "Coahuila de Zaragoza  MX-COA          100"
      ]
     },
     "execution_count": 12,
     "metadata": {},
     "output_type": "execute_result"
    }
   ],
   "source": [
    "region = pytrends.interest_by_region(resolution='COUNTRY',\n",
    "                           inc_low_vol=False,\n",
    "                           inc_geo_code=True)\n",
    "\n",
    "region.sort_values(by='certificado').tail()"
   ]
  },
  {
   "cell_type": "code",
   "execution_count": 13,
   "id": "a195e147-b5bd-41d1-b002-57c2df85186e",
   "metadata": {},
   "outputs": [
    {
     "data": {
      "text/plain": [
       "(32, 2)"
      ]
     },
     "execution_count": 13,
     "metadata": {},
     "output_type": "execute_result"
    }
   ],
   "source": [
    "region.shape"
   ]
  },
  {
   "cell_type": "markdown",
   "id": "4cb98842-7493-49b0-8d39-ea66a7dbbfe8",
   "metadata": {},
   "source": [
    "### Temas relacionados\n",
    "\n",
    "Regresa un diccionario de dataframes, que contienen información de las `keywords` relacionadas con el criterio de búsqueda.\n",
    "\n",
    "**Primer nivel**\n",
    "<br>La llave es el criterio de búsqueda"
   ]
  },
  {
   "cell_type": "code",
   "execution_count": 14,
   "id": "67313a17-b956-4a63-bf08-84e5697ed1c2",
   "metadata": {},
   "outputs": [
    {
     "data": {
      "text/plain": [
       "(dict, 1)"
      ]
     },
     "execution_count": 14,
     "metadata": {},
     "output_type": "execute_result"
    }
   ],
   "source": [
    "related = pytrends.related_topics()\n",
    "type(related), len(related)"
   ]
  },
  {
   "cell_type": "code",
   "execution_count": 9,
   "id": "f0e07311-7358-4e21-940d-21ee2a3698df",
   "metadata": {},
   "outputs": [
    {
     "data": {
      "text/plain": [
       "dict_keys(['certificado'])"
      ]
     },
     "execution_count": 9,
     "metadata": {},
     "output_type": "execute_result"
    }
   ],
   "source": [
    "related.keys()"
   ]
  },
  {
   "cell_type": "markdown",
   "id": "e06dbdfc-3b16-48c3-beef-97c025ae1458",
   "metadata": {},
   "source": [
    "**Segundo nivel**\n",
    "<br>Las llaves son los temas relacionados:\n",
    "* Top\n",
    "* En aumento"
   ]
  },
  {
   "cell_type": "code",
   "execution_count": 10,
   "id": "7272672c-33cd-4117-85cd-d73129202a4b",
   "metadata": {},
   "outputs": [
    {
     "data": {
      "text/plain": [
       "(dict, 2)"
      ]
     },
     "execution_count": 10,
     "metadata": {},
     "output_type": "execute_result"
    }
   ],
   "source": [
    "type(related['certificado']), len(related['certificado'])"
   ]
  },
  {
   "cell_type": "code",
   "execution_count": 11,
   "id": "a9ad742d-a2e6-4fcd-ba05-04f49d626ee1",
   "metadata": {},
   "outputs": [
    {
     "data": {
      "text/plain": [
       "dict_keys(['rising', 'top'])"
      ]
     },
     "execution_count": 11,
     "metadata": {},
     "output_type": "execute_result"
    }
   ],
   "source": [
    "related['certificado'].keys()"
   ]
  },
  {
   "cell_type": "markdown",
   "id": "8dafc672-1660-4501-bce8-c35fd615bc87",
   "metadata": {},
   "source": [
    "**Inspenccionando** los temas `rising`"
   ]
  },
  {
   "cell_type": "code",
   "execution_count": 15,
   "id": "3d41f5ce-1297-4e79-9a11-f4556c7ca586",
   "metadata": {},
   "outputs": [
    {
     "data": {
      "text/html": [
       "<div>\n",
       "<style scoped>\n",
       "    .dataframe tbody tr th:only-of-type {\n",
       "        vertical-align: middle;\n",
       "    }\n",
       "\n",
       "    .dataframe tbody tr th {\n",
       "        vertical-align: top;\n",
       "    }\n",
       "\n",
       "    .dataframe thead th {\n",
       "        text-align: right;\n",
       "    }\n",
       "</style>\n",
       "<table border=\"1\" class=\"dataframe\">\n",
       "  <thead>\n",
       "    <tr style=\"text-align: right;\">\n",
       "      <th></th>\n",
       "      <th>value</th>\n",
       "      <th>formattedValue</th>\n",
       "      <th>link</th>\n",
       "      <th>topic_mid</th>\n",
       "      <th>topic_title</th>\n",
       "      <th>topic_type</th>\n",
       "    </tr>\n",
       "  </thead>\n",
       "  <tbody>\n",
       "    <tr>\n",
       "      <th>0</th>\n",
       "      <td>2353750</td>\n",
       "      <td>Breakout</td>\n",
       "      <td>/trends/explore?q=/g/11j2cc_qll&amp;date=today+5-y...</td>\n",
       "      <td>/g/11j2cc_qll</td>\n",
       "      <td>Coronavirus disease 2019</td>\n",
       "      <td>Disease</td>\n",
       "    </tr>\n",
       "    <tr>\n",
       "      <th>1</th>\n",
       "      <td>1936900</td>\n",
       "      <td>Breakout</td>\n",
       "      <td>/trends/explore?q=/g/11j8_9sv06&amp;date=today+5-y...</td>\n",
       "      <td>/g/11j8_9sv06</td>\n",
       "      <td>COVID-19 vaccine</td>\n",
       "      <td>Vaccine</td>\n",
       "    </tr>\n",
       "    <tr>\n",
       "      <th>2</th>\n",
       "      <td>39550</td>\n",
       "      <td>Breakout</td>\n",
       "      <td>/trends/explore?q=/m/07__7&amp;date=today+5-y&amp;geo=MX</td>\n",
       "      <td>/m/07__7</td>\n",
       "      <td>Vaccine</td>\n",
       "      <td>Topic</td>\n",
       "    </tr>\n",
       "    <tr>\n",
       "      <th>3</th>\n",
       "      <td>11950</td>\n",
       "      <td>Breakout</td>\n",
       "      <td>/trends/explore?q=/g/11n04t1m_2&amp;date=today+5-y...</td>\n",
       "      <td>/g/11n04t1m_2</td>\n",
       "      <td>Ad5-nCoV</td>\n",
       "      <td>Vaccine</td>\n",
       "    </tr>\n",
       "    <tr>\n",
       "      <th>4</th>\n",
       "      <td>200</td>\n",
       "      <td>+200%</td>\n",
       "      <td>/trends/explore?q=/m/06r5rg&amp;date=today+5-y&amp;geo=MX</td>\n",
       "      <td>/m/06r5rg</td>\n",
       "      <td>Voucher</td>\n",
       "      <td>Topic</td>\n",
       "    </tr>\n",
       "    <tr>\n",
       "      <th>5</th>\n",
       "      <td>160</td>\n",
       "      <td>+160%</td>\n",
       "      <td>/trends/explore?q=/m/0kt51&amp;date=today+5-y&amp;geo=MX</td>\n",
       "      <td>/m/0kt51</td>\n",
       "      <td>Health</td>\n",
       "      <td>Topic</td>\n",
       "    </tr>\n",
       "    <tr>\n",
       "      <th>6</th>\n",
       "      <td>150</td>\n",
       "      <td>+150%</td>\n",
       "      <td>/trends/explore?q=/m/03rd6r&amp;date=today+5-y&amp;geo=MX</td>\n",
       "      <td>/m/03rd6r</td>\n",
       "      <td>Debtor</td>\n",
       "      <td>Topic</td>\n",
       "    </tr>\n",
       "    <tr>\n",
       "      <th>7</th>\n",
       "      <td>130</td>\n",
       "      <td>+130%</td>\n",
       "      <td>/trends/explore?q=/m/03jkw&amp;date=today+5-y&amp;geo=MX</td>\n",
       "      <td>/m/03jkw</td>\n",
       "      <td>HTTPS</td>\n",
       "      <td>Internet protocol</td>\n",
       "    </tr>\n",
       "    <tr>\n",
       "      <th>8</th>\n",
       "      <td>90</td>\n",
       "      <td>+90%</td>\n",
       "      <td>/trends/explore?q=/m/01bgz0&amp;date=today+5-y&amp;geo=MX</td>\n",
       "      <td>/m/01bgz0</td>\n",
       "      <td>Ballot</td>\n",
       "      <td>Topic</td>\n",
       "    </tr>\n",
       "  </tbody>\n",
       "</table>\n",
       "</div>"
      ],
      "text/plain": [
       "     value formattedValue                                               link  \\\n",
       "0  2353750       Breakout  /trends/explore?q=/g/11j2cc_qll&date=today+5-y...   \n",
       "1  1936900       Breakout  /trends/explore?q=/g/11j8_9sv06&date=today+5-y...   \n",
       "2    39550       Breakout   /trends/explore?q=/m/07__7&date=today+5-y&geo=MX   \n",
       "3    11950       Breakout  /trends/explore?q=/g/11n04t1m_2&date=today+5-y...   \n",
       "4      200          +200%  /trends/explore?q=/m/06r5rg&date=today+5-y&geo=MX   \n",
       "5      160          +160%   /trends/explore?q=/m/0kt51&date=today+5-y&geo=MX   \n",
       "6      150          +150%  /trends/explore?q=/m/03rd6r&date=today+5-y&geo=MX   \n",
       "7      130          +130%   /trends/explore?q=/m/03jkw&date=today+5-y&geo=MX   \n",
       "8       90           +90%  /trends/explore?q=/m/01bgz0&date=today+5-y&geo=MX   \n",
       "\n",
       "       topic_mid               topic_title         topic_type  \n",
       "0  /g/11j2cc_qll  Coronavirus disease 2019            Disease  \n",
       "1  /g/11j8_9sv06          COVID-19 vaccine            Vaccine  \n",
       "2       /m/07__7                   Vaccine              Topic  \n",
       "3  /g/11n04t1m_2                  Ad5-nCoV            Vaccine  \n",
       "4      /m/06r5rg                   Voucher              Topic  \n",
       "5       /m/0kt51                    Health              Topic  \n",
       "6      /m/03rd6r                    Debtor              Topic  \n",
       "7       /m/03jkw                     HTTPS  Internet protocol  \n",
       "8      /m/01bgz0                    Ballot              Topic  "
      ]
     },
     "execution_count": 15,
     "metadata": {},
     "output_type": "execute_result"
    }
   ],
   "source": [
    "related['certificado']['rising']"
   ]
  },
  {
   "cell_type": "markdown",
   "id": "7023667d-465c-4d90-a091-efbc0f06f39b",
   "metadata": {},
   "source": [
    "**Inspeccionando** los temas `top`"
   ]
  },
  {
   "cell_type": "code",
   "execution_count": 19,
   "id": "7a7b853a-d979-4bfd-996d-fbe6401b0f99",
   "metadata": {},
   "outputs": [
    {
     "data": {
      "text/html": [
       "<div>\n",
       "<style scoped>\n",
       "    .dataframe tbody tr th:only-of-type {\n",
       "        vertical-align: middle;\n",
       "    }\n",
       "\n",
       "    .dataframe tbody tr th {\n",
       "        vertical-align: top;\n",
       "    }\n",
       "\n",
       "    .dataframe thead th {\n",
       "        text-align: right;\n",
       "    }\n",
       "</style>\n",
       "<table border=\"1\" class=\"dataframe\">\n",
       "  <thead>\n",
       "    <tr style=\"text-align: right;\">\n",
       "      <th></th>\n",
       "      <th>value</th>\n",
       "      <th>formattedValue</th>\n",
       "      <th>hasData</th>\n",
       "      <th>link</th>\n",
       "      <th>topic_mid</th>\n",
       "      <th>topic_title</th>\n",
       "      <th>topic_type</th>\n",
       "    </tr>\n",
       "  </thead>\n",
       "  <tbody>\n",
       "    <tr>\n",
       "      <th>0</th>\n",
       "      <td>100</td>\n",
       "      <td>100</td>\n",
       "      <td>True</td>\n",
       "      <td>/trends/explore?q=/g/1q6jhj1bs&amp;date=2022-11-04...</td>\n",
       "      <td>/g/1q6jhj1bs</td>\n",
       "      <td>Certificado</td>\n",
       "      <td>Tema</td>\n",
       "    </tr>\n",
       "    <tr>\n",
       "      <th>1</th>\n",
       "      <td>17</td>\n",
       "      <td>17</td>\n",
       "      <td>True</td>\n",
       "      <td>/trends/explore?q=/m/07__7&amp;date=2022-11-04T16+...</td>\n",
       "      <td>/m/07__7</td>\n",
       "      <td>Vacuna</td>\n",
       "      <td>Tema</td>\n",
       "    </tr>\n",
       "    <tr>\n",
       "      <th>2</th>\n",
       "      <td>13</td>\n",
       "      <td>13</td>\n",
       "      <td>True</td>\n",
       "      <td>/trends/explore?q=/g/11j2cc_qll&amp;date=2022-11-0...</td>\n",
       "      <td>/g/11j2cc_qll</td>\n",
       "      <td>COVID-19</td>\n",
       "      <td>Enfermedad</td>\n",
       "    </tr>\n",
       "    <tr>\n",
       "      <th>3</th>\n",
       "      <td>11</td>\n",
       "      <td>11</td>\n",
       "      <td>True</td>\n",
       "      <td>/trends/explore?q=/m/04ztj&amp;date=2022-11-04T16+...</td>\n",
       "      <td>/m/04ztj</td>\n",
       "      <td>Matrimonio</td>\n",
       "      <td>Tema</td>\n",
       "    </tr>\n",
       "    <tr>\n",
       "      <th>4</th>\n",
       "      <td>8</td>\n",
       "      <td>8</td>\n",
       "      <td>True</td>\n",
       "      <td>/trends/explore?q=/g/11j8_9sv06&amp;date=2022-11-0...</td>\n",
       "      <td>/g/11j8_9sv06</td>\n",
       "      <td>Vacuna contra COVID-19</td>\n",
       "      <td>Vacuna</td>\n",
       "    </tr>\n",
       "    <tr>\n",
       "      <th>5</th>\n",
       "      <td>7</td>\n",
       "      <td>7</td>\n",
       "      <td>True</td>\n",
       "      <td>/trends/explore?q=/m/079h0&amp;date=2022-11-04T16+...</td>\n",
       "      <td>/m/079h0</td>\n",
       "      <td>Educación secundaria</td>\n",
       "      <td>Campo de estudio</td>\n",
       "    </tr>\n",
       "    <tr>\n",
       "      <th>6</th>\n",
       "      <td>6</td>\n",
       "      <td>6</td>\n",
       "      <td>True</td>\n",
       "      <td>/trends/explore?q=/m/0fl33_&amp;date=2022-11-04T16...</td>\n",
       "      <td>/m/0fl33_</td>\n",
       "      <td>certificado matrimonial</td>\n",
       "      <td>Tema</td>\n",
       "    </tr>\n",
       "    <tr>\n",
       "      <th>7</th>\n",
       "      <td>5</td>\n",
       "      <td>5</td>\n",
       "      <td>True</td>\n",
       "      <td>/trends/explore?q=/m/0kt51&amp;date=2022-11-04T16+...</td>\n",
       "      <td>/m/0kt51</td>\n",
       "      <td>Salud</td>\n",
       "      <td>Tema</td>\n",
       "    </tr>\n",
       "    <tr>\n",
       "      <th>8</th>\n",
       "      <td>5</td>\n",
       "      <td>5</td>\n",
       "      <td>True</td>\n",
       "      <td>/trends/explore?q=/m/02rq2k1&amp;date=2022-11-04T1...</td>\n",
       "      <td>/m/02rq2k1</td>\n",
       "      <td>Educación primaria</td>\n",
       "      <td>Categoría escolar</td>\n",
       "    </tr>\n",
       "    <tr>\n",
       "      <th>9</th>\n",
       "      <td>5</td>\n",
       "      <td>5</td>\n",
       "      <td>True</td>\n",
       "      <td>/trends/explore?q=/m/0bwwt8&amp;date=2022-11-04T16...</td>\n",
       "      <td>/m/0bwwt8</td>\n",
       "      <td>Constancia</td>\n",
       "      <td>Documento</td>\n",
       "    </tr>\n",
       "    <tr>\n",
       "      <th>10</th>\n",
       "      <td>4</td>\n",
       "      <td>4</td>\n",
       "      <td>True</td>\n",
       "      <td>/trends/explore?q=/m/012kb2&amp;date=2022-11-04T16...</td>\n",
       "      <td>/m/012kb2</td>\n",
       "      <td>Civil</td>\n",
       "      <td>Tema</td>\n",
       "    </tr>\n",
       "    <tr>\n",
       "      <th>11</th>\n",
       "      <td>4</td>\n",
       "      <td>4</td>\n",
       "      <td>True</td>\n",
       "      <td>/trends/explore?q=/m/0fl5x&amp;date=2022-11-04T16+...</td>\n",
       "      <td>/m/0fl5x</td>\n",
       "      <td>Discapacidad</td>\n",
       "      <td>Tema</td>\n",
       "    </tr>\n",
       "    <tr>\n",
       "      <th>12</th>\n",
       "      <td>3</td>\n",
       "      <td>3</td>\n",
       "      <td>True</td>\n",
       "      <td>/trends/explore?q=/m/05t4q&amp;date=2022-11-04T16+...</td>\n",
       "      <td>/m/05t4q</td>\n",
       "      <td>Médico</td>\n",
       "      <td>Profesión</td>\n",
       "    </tr>\n",
       "    <tr>\n",
       "      <th>13</th>\n",
       "      <td>3</td>\n",
       "      <td>3</td>\n",
       "      <td>True</td>\n",
       "      <td>/trends/explore?q=/m/09lkz&amp;date=2022-11-04T16+...</td>\n",
       "      <td>/m/09lkz</td>\n",
       "      <td>Adopción</td>\n",
       "      <td>Tema</td>\n",
       "    </tr>\n",
       "    <tr>\n",
       "      <th>14</th>\n",
       "      <td>3</td>\n",
       "      <td>3</td>\n",
       "      <td>True</td>\n",
       "      <td>/trends/explore?q=/m/0c5mq&amp;date=2022-11-04T16+...</td>\n",
       "      <td>/m/0c5mq</td>\n",
       "      <td>Impresión</td>\n",
       "      <td>Forma de arte visual</td>\n",
       "    </tr>\n",
       "    <tr>\n",
       "      <th>15</th>\n",
       "      <td>3</td>\n",
       "      <td>3</td>\n",
       "      <td>True</td>\n",
       "      <td>/trends/explore?q=/g/12233q7k&amp;date=2022-11-04T...</td>\n",
       "      <td>/g/12233q7k</td>\n",
       "      <td>Registro civil</td>\n",
       "      <td>Tema</td>\n",
       "    </tr>\n",
       "    <tr>\n",
       "      <th>16</th>\n",
       "      <td>3</td>\n",
       "      <td>3</td>\n",
       "      <td>True</td>\n",
       "      <td>/trends/explore?q=/m/025tjcb&amp;date=2022-11-04T1...</td>\n",
       "      <td>/m/025tjcb</td>\n",
       "      <td>Secundaria</td>\n",
       "      <td>Categoría escolar</td>\n",
       "    </tr>\n",
       "    <tr>\n",
       "      <th>17</th>\n",
       "      <td>3</td>\n",
       "      <td>3</td>\n",
       "      <td>True</td>\n",
       "      <td>/trends/explore?q=/m/01dw1f&amp;date=2022-11-04T16...</td>\n",
       "      <td>/m/01dw1f</td>\n",
       "      <td>Certificado de nacimiento</td>\n",
       "      <td>Tema</td>\n",
       "    </tr>\n",
       "    <tr>\n",
       "      <th>18</th>\n",
       "      <td>2</td>\n",
       "      <td>2</td>\n",
       "      <td>True</td>\n",
       "      <td>/trends/explore?q=/m/0dtnjy&amp;date=2022-11-04T16...</td>\n",
       "      <td>/m/0dtnjy</td>\n",
       "      <td>Sep</td>\n",
       "      <td>Ministerio</td>\n",
       "    </tr>\n",
       "    <tr>\n",
       "      <th>19</th>\n",
       "      <td>2</td>\n",
       "      <td>2</td>\n",
       "      <td>True</td>\n",
       "      <td>/trends/explore?q=/m/0cl7rt&amp;date=2022-11-04T16...</td>\n",
       "      <td>/m/0cl7rt</td>\n",
       "      <td>Acta</td>\n",
       "      <td>Documento</td>\n",
       "    </tr>\n",
       "    <tr>\n",
       "      <th>20</th>\n",
       "      <td>1</td>\n",
       "      <td>1</td>\n",
       "      <td>True</td>\n",
       "      <td>/trends/explore?q=/m/01z8txb&amp;date=2022-11-04T1...</td>\n",
       "      <td>/m/01z8txb</td>\n",
       "      <td>Comida kosher</td>\n",
       "      <td>Cocina</td>\n",
       "    </tr>\n",
       "    <tr>\n",
       "      <th>21</th>\n",
       "      <td>1</td>\n",
       "      <td>1</td>\n",
       "      <td>True</td>\n",
       "      <td>/trends/explore?q=/m/093_p5&amp;date=2022-11-04T16...</td>\n",
       "      <td>/m/093_p5</td>\n",
       "      <td>Calendario de vacunación</td>\n",
       "      <td>Tema</td>\n",
       "    </tr>\n",
       "    <tr>\n",
       "      <th>22</th>\n",
       "      <td>1</td>\n",
       "      <td>1</td>\n",
       "      <td>True</td>\n",
       "      <td>/trends/explore?q=/m/02pld&amp;date=2022-11-04T16+...</td>\n",
       "      <td>/m/02pld</td>\n",
       "      <td>Elfo</td>\n",
       "      <td>Tema</td>\n",
       "    </tr>\n",
       "    <tr>\n",
       "      <th>23</th>\n",
       "      <td>1</td>\n",
       "      <td>1</td>\n",
       "      <td>True</td>\n",
       "      <td>/trends/explore?q=/m/05sv1&amp;date=2022-11-04T16+...</td>\n",
       "      <td>/m/05sv1</td>\n",
       "      <td>Pasaporte</td>\n",
       "      <td>Tema</td>\n",
       "    </tr>\n",
       "    <tr>\n",
       "      <th>24</th>\n",
       "      <td>1</td>\n",
       "      <td>1</td>\n",
       "      <td>True</td>\n",
       "      <td>/trends/explore?q=/g/1q6h_1zz4&amp;date=2022-11-04...</td>\n",
       "      <td>/g/1q6h_1zz4</td>\n",
       "      <td>Bachillerato</td>\n",
       "      <td>Grado académico</td>\n",
       "    </tr>\n",
       "  </tbody>\n",
       "</table>\n",
       "</div>"
      ],
      "text/plain": [
       "    value formattedValue  hasData  \\\n",
       "0     100            100     True   \n",
       "1      17             17     True   \n",
       "2      13             13     True   \n",
       "3      11             11     True   \n",
       "4       8              8     True   \n",
       "5       7              7     True   \n",
       "6       6              6     True   \n",
       "7       5              5     True   \n",
       "8       5              5     True   \n",
       "9       5              5     True   \n",
       "10      4              4     True   \n",
       "11      4              4     True   \n",
       "12      3              3     True   \n",
       "13      3              3     True   \n",
       "14      3              3     True   \n",
       "15      3              3     True   \n",
       "16      3              3     True   \n",
       "17      3              3     True   \n",
       "18      2              2     True   \n",
       "19      2              2     True   \n",
       "20      1              1     True   \n",
       "21      1              1     True   \n",
       "22      1              1     True   \n",
       "23      1              1     True   \n",
       "24      1              1     True   \n",
       "\n",
       "                                                 link      topic_mid  \\\n",
       "0   /trends/explore?q=/g/1q6jhj1bs&date=2022-11-04...   /g/1q6jhj1bs   \n",
       "1   /trends/explore?q=/m/07__7&date=2022-11-04T16+...       /m/07__7   \n",
       "2   /trends/explore?q=/g/11j2cc_qll&date=2022-11-0...  /g/11j2cc_qll   \n",
       "3   /trends/explore?q=/m/04ztj&date=2022-11-04T16+...       /m/04ztj   \n",
       "4   /trends/explore?q=/g/11j8_9sv06&date=2022-11-0...  /g/11j8_9sv06   \n",
       "5   /trends/explore?q=/m/079h0&date=2022-11-04T16+...       /m/079h0   \n",
       "6   /trends/explore?q=/m/0fl33_&date=2022-11-04T16...      /m/0fl33_   \n",
       "7   /trends/explore?q=/m/0kt51&date=2022-11-04T16+...       /m/0kt51   \n",
       "8   /trends/explore?q=/m/02rq2k1&date=2022-11-04T1...     /m/02rq2k1   \n",
       "9   /trends/explore?q=/m/0bwwt8&date=2022-11-04T16...      /m/0bwwt8   \n",
       "10  /trends/explore?q=/m/012kb2&date=2022-11-04T16...      /m/012kb2   \n",
       "11  /trends/explore?q=/m/0fl5x&date=2022-11-04T16+...       /m/0fl5x   \n",
       "12  /trends/explore?q=/m/05t4q&date=2022-11-04T16+...       /m/05t4q   \n",
       "13  /trends/explore?q=/m/09lkz&date=2022-11-04T16+...       /m/09lkz   \n",
       "14  /trends/explore?q=/m/0c5mq&date=2022-11-04T16+...       /m/0c5mq   \n",
       "15  /trends/explore?q=/g/12233q7k&date=2022-11-04T...    /g/12233q7k   \n",
       "16  /trends/explore?q=/m/025tjcb&date=2022-11-04T1...     /m/025tjcb   \n",
       "17  /trends/explore?q=/m/01dw1f&date=2022-11-04T16...      /m/01dw1f   \n",
       "18  /trends/explore?q=/m/0dtnjy&date=2022-11-04T16...      /m/0dtnjy   \n",
       "19  /trends/explore?q=/m/0cl7rt&date=2022-11-04T16...      /m/0cl7rt   \n",
       "20  /trends/explore?q=/m/01z8txb&date=2022-11-04T1...     /m/01z8txb   \n",
       "21  /trends/explore?q=/m/093_p5&date=2022-11-04T16...      /m/093_p5   \n",
       "22  /trends/explore?q=/m/02pld&date=2022-11-04T16+...       /m/02pld   \n",
       "23  /trends/explore?q=/m/05sv1&date=2022-11-04T16+...       /m/05sv1   \n",
       "24  /trends/explore?q=/g/1q6h_1zz4&date=2022-11-04...   /g/1q6h_1zz4   \n",
       "\n",
       "                  topic_title            topic_type  \n",
       "0                 Certificado                  Tema  \n",
       "1                      Vacuna                  Tema  \n",
       "2                    COVID-19            Enfermedad  \n",
       "3                  Matrimonio                  Tema  \n",
       "4      Vacuna contra COVID-19                Vacuna  \n",
       "5        Educación secundaria      Campo de estudio  \n",
       "6     certificado matrimonial                  Tema  \n",
       "7                       Salud                  Tema  \n",
       "8          Educación primaria     Categoría escolar  \n",
       "9                  Constancia             Documento  \n",
       "10                      Civil                  Tema  \n",
       "11               Discapacidad                  Tema  \n",
       "12                     Médico             Profesión  \n",
       "13                   Adopción                  Tema  \n",
       "14                  Impresión  Forma de arte visual  \n",
       "15             Registro civil                  Tema  \n",
       "16                 Secundaria     Categoría escolar  \n",
       "17  Certificado de nacimiento                  Tema  \n",
       "18                        Sep            Ministerio  \n",
       "19                       Acta             Documento  \n",
       "20              Comida kosher                Cocina  \n",
       "21   Calendario de vacunación                  Tema  \n",
       "22                       Elfo                  Tema  \n",
       "23                  Pasaporte                  Tema  \n",
       "24               Bachillerato       Grado académico  "
      ]
     },
     "execution_count": 19,
     "metadata": {},
     "output_type": "execute_result"
    }
   ],
   "source": [
    "related['certificado']['top']"
   ]
  },
  {
   "cell_type": "markdown",
   "id": "d50313c5-fa6d-4eb5-9575-1df67fbe3739",
   "metadata": {},
   "source": [
    "### Consultas relacionadas\n",
    "\n",
    "Regresa la misma estrucctura que `related_topics`\n",
    "\n",
    "**Primer nivel**\n",
    "<br>La llave es el criterio de búsqueda"
   ]
  },
  {
   "cell_type": "code",
   "execution_count": 15,
   "id": "2e15deee-3e9b-43b6-ae06-f649dc41d2bf",
   "metadata": {},
   "outputs": [
    {
     "data": {
      "text/plain": [
       "(dict, 1)"
      ]
     },
     "execution_count": 15,
     "metadata": {},
     "output_type": "execute_result"
    }
   ],
   "source": [
    "queries = pytrends.related_topics()\n",
    "type(queries), len(queries)"
   ]
  },
  {
   "cell_type": "code",
   "execution_count": 16,
   "id": "323e96ea-f2d1-41ec-b663-12a16efe35f8",
   "metadata": {},
   "outputs": [
    {
     "data": {
      "text/plain": [
       "dict_keys(['certificado'])"
      ]
     },
     "execution_count": 16,
     "metadata": {},
     "output_type": "execute_result"
    }
   ],
   "source": [
    "queries.keys()"
   ]
  },
  {
   "cell_type": "markdown",
   "id": "c14c1441-44e8-471e-b8b3-9be5a198ffc5",
   "metadata": {},
   "source": [
    "**Segundo nivel**\n",
    "<br>Las llaves son los temas relacionados:\n",
    "* Top\n",
    "* En aumento"
   ]
  },
  {
   "cell_type": "code",
   "execution_count": 17,
   "id": "6a5d3d31-ed0e-4a25-9906-db2baba33ce4",
   "metadata": {},
   "outputs": [
    {
     "data": {
      "text/plain": [
       "dict_keys(['rising', 'top'])"
      ]
     },
     "execution_count": 17,
     "metadata": {},
     "output_type": "execute_result"
    }
   ],
   "source": [
    "queries['certificado'].keys()"
   ]
  },
  {
   "cell_type": "markdown",
   "id": "8f66fd83-3db2-483e-91c9-87bcb34247f9",
   "metadata": {},
   "source": [
    "**Inspenccionando** los temas `rising`"
   ]
  },
  {
   "cell_type": "code",
   "execution_count": 18,
   "id": "e15fbc7f-0ed8-4b23-b0d7-6cc6d3501afd",
   "metadata": {},
   "outputs": [
    {
     "data": {
      "text/html": [
       "<div>\n",
       "<style scoped>\n",
       "    .dataframe tbody tr th:only-of-type {\n",
       "        vertical-align: middle;\n",
       "    }\n",
       "\n",
       "    .dataframe tbody tr th {\n",
       "        vertical-align: top;\n",
       "    }\n",
       "\n",
       "    .dataframe thead th {\n",
       "        text-align: right;\n",
       "    }\n",
       "</style>\n",
       "<table border=\"1\" class=\"dataframe\">\n",
       "  <thead>\n",
       "    <tr style=\"text-align: right;\">\n",
       "      <th></th>\n",
       "      <th>value</th>\n",
       "      <th>formattedValue</th>\n",
       "      <th>link</th>\n",
       "      <th>topic_mid</th>\n",
       "      <th>topic_title</th>\n",
       "      <th>topic_type</th>\n",
       "    </tr>\n",
       "  </thead>\n",
       "  <tbody>\n",
       "    <tr>\n",
       "      <th>0</th>\n",
       "      <td>2353750</td>\n",
       "      <td>Breakout</td>\n",
       "      <td>/trends/explore?q=/g/11j2cc_qll&amp;date=today+5-y...</td>\n",
       "      <td>/g/11j2cc_qll</td>\n",
       "      <td>Coronavirus disease 2019</td>\n",
       "      <td>Disease</td>\n",
       "    </tr>\n",
       "    <tr>\n",
       "      <th>1</th>\n",
       "      <td>1936900</td>\n",
       "      <td>Breakout</td>\n",
       "      <td>/trends/explore?q=/g/11j8_9sv06&amp;date=today+5-y...</td>\n",
       "      <td>/g/11j8_9sv06</td>\n",
       "      <td>COVID-19 vaccine</td>\n",
       "      <td>Vaccine</td>\n",
       "    </tr>\n",
       "    <tr>\n",
       "      <th>2</th>\n",
       "      <td>39550</td>\n",
       "      <td>Breakout</td>\n",
       "      <td>/trends/explore?q=/m/07__7&amp;date=today+5-y&amp;geo=MX</td>\n",
       "      <td>/m/07__7</td>\n",
       "      <td>Vaccine</td>\n",
       "      <td>Topic</td>\n",
       "    </tr>\n",
       "    <tr>\n",
       "      <th>3</th>\n",
       "      <td>11950</td>\n",
       "      <td>Breakout</td>\n",
       "      <td>/trends/explore?q=/g/11n04t1m_2&amp;date=today+5-y...</td>\n",
       "      <td>/g/11n04t1m_2</td>\n",
       "      <td>Ad5-nCoV</td>\n",
       "      <td>Vaccine</td>\n",
       "    </tr>\n",
       "    <tr>\n",
       "      <th>4</th>\n",
       "      <td>200</td>\n",
       "      <td>+200%</td>\n",
       "      <td>/trends/explore?q=/m/06r5rg&amp;date=today+5-y&amp;geo=MX</td>\n",
       "      <td>/m/06r5rg</td>\n",
       "      <td>Voucher</td>\n",
       "      <td>Topic</td>\n",
       "    </tr>\n",
       "    <tr>\n",
       "      <th>5</th>\n",
       "      <td>160</td>\n",
       "      <td>+160%</td>\n",
       "      <td>/trends/explore?q=/m/0kt51&amp;date=today+5-y&amp;geo=MX</td>\n",
       "      <td>/m/0kt51</td>\n",
       "      <td>Health</td>\n",
       "      <td>Topic</td>\n",
       "    </tr>\n",
       "    <tr>\n",
       "      <th>6</th>\n",
       "      <td>150</td>\n",
       "      <td>+150%</td>\n",
       "      <td>/trends/explore?q=/m/03rd6r&amp;date=today+5-y&amp;geo=MX</td>\n",
       "      <td>/m/03rd6r</td>\n",
       "      <td>Debtor</td>\n",
       "      <td>Topic</td>\n",
       "    </tr>\n",
       "    <tr>\n",
       "      <th>7</th>\n",
       "      <td>130</td>\n",
       "      <td>+130%</td>\n",
       "      <td>/trends/explore?q=/m/03jkw&amp;date=today+5-y&amp;geo=MX</td>\n",
       "      <td>/m/03jkw</td>\n",
       "      <td>HTTPS</td>\n",
       "      <td>Internet protocol</td>\n",
       "    </tr>\n",
       "    <tr>\n",
       "      <th>8</th>\n",
       "      <td>90</td>\n",
       "      <td>+90%</td>\n",
       "      <td>/trends/explore?q=/m/01bgz0&amp;date=today+5-y&amp;geo=MX</td>\n",
       "      <td>/m/01bgz0</td>\n",
       "      <td>Ballot</td>\n",
       "      <td>Topic</td>\n",
       "    </tr>\n",
       "  </tbody>\n",
       "</table>\n",
       "</div>"
      ],
      "text/plain": [
       "     value formattedValue                                               link  \\\n",
       "0  2353750       Breakout  /trends/explore?q=/g/11j2cc_qll&date=today+5-y...   \n",
       "1  1936900       Breakout  /trends/explore?q=/g/11j8_9sv06&date=today+5-y...   \n",
       "2    39550       Breakout   /trends/explore?q=/m/07__7&date=today+5-y&geo=MX   \n",
       "3    11950       Breakout  /trends/explore?q=/g/11n04t1m_2&date=today+5-y...   \n",
       "4      200          +200%  /trends/explore?q=/m/06r5rg&date=today+5-y&geo=MX   \n",
       "5      160          +160%   /trends/explore?q=/m/0kt51&date=today+5-y&geo=MX   \n",
       "6      150          +150%  /trends/explore?q=/m/03rd6r&date=today+5-y&geo=MX   \n",
       "7      130          +130%   /trends/explore?q=/m/03jkw&date=today+5-y&geo=MX   \n",
       "8       90           +90%  /trends/explore?q=/m/01bgz0&date=today+5-y&geo=MX   \n",
       "\n",
       "       topic_mid               topic_title         topic_type  \n",
       "0  /g/11j2cc_qll  Coronavirus disease 2019            Disease  \n",
       "1  /g/11j8_9sv06          COVID-19 vaccine            Vaccine  \n",
       "2       /m/07__7                   Vaccine              Topic  \n",
       "3  /g/11n04t1m_2                  Ad5-nCoV            Vaccine  \n",
       "4      /m/06r5rg                   Voucher              Topic  \n",
       "5       /m/0kt51                    Health              Topic  \n",
       "6      /m/03rd6r                    Debtor              Topic  \n",
       "7       /m/03jkw                     HTTPS  Internet protocol  \n",
       "8      /m/01bgz0                    Ballot              Topic  "
      ]
     },
     "execution_count": 18,
     "metadata": {},
     "output_type": "execute_result"
    }
   ],
   "source": [
    "queries['certificado']['rising']"
   ]
  },
  {
   "cell_type": "markdown",
   "id": "9e609dbb-d852-425e-b427-1fb80fe8d3c1",
   "metadata": {},
   "source": [
    "**Inspeccionando** los temas `top`"
   ]
  },
  {
   "cell_type": "code",
   "execution_count": 19,
   "id": "d4277b6a-6153-4499-90ec-179a68275840",
   "metadata": {},
   "outputs": [
    {
     "data": {
      "text/html": [
       "<div>\n",
       "<style scoped>\n",
       "    .dataframe tbody tr th:only-of-type {\n",
       "        vertical-align: middle;\n",
       "    }\n",
       "\n",
       "    .dataframe tbody tr th {\n",
       "        vertical-align: top;\n",
       "    }\n",
       "\n",
       "    .dataframe thead th {\n",
       "        text-align: right;\n",
       "    }\n",
       "</style>\n",
       "<table border=\"1\" class=\"dataframe\">\n",
       "  <thead>\n",
       "    <tr style=\"text-align: right;\">\n",
       "      <th></th>\n",
       "      <th>value</th>\n",
       "      <th>formattedValue</th>\n",
       "      <th>hasData</th>\n",
       "      <th>link</th>\n",
       "      <th>topic_mid</th>\n",
       "      <th>topic_title</th>\n",
       "      <th>topic_type</th>\n",
       "    </tr>\n",
       "  </thead>\n",
       "  <tbody>\n",
       "    <tr>\n",
       "      <th>0</th>\n",
       "      <td>100</td>\n",
       "      <td>100</td>\n",
       "      <td>True</td>\n",
       "      <td>/trends/explore?q=/g/1q6jhj1bs&amp;date=today+5-y&amp;...</td>\n",
       "      <td>/g/1q6jhj1bs</td>\n",
       "      <td>Certificate</td>\n",
       "      <td>Degree</td>\n",
       "    </tr>\n",
       "    <tr>\n",
       "      <th>1</th>\n",
       "      <td>44</td>\n",
       "      <td>44</td>\n",
       "      <td>True</td>\n",
       "      <td>/trends/explore?q=/m/07__7&amp;date=today+5-y&amp;geo=MX</td>\n",
       "      <td>/m/07__7</td>\n",
       "      <td>Vaccine</td>\n",
       "      <td>Topic</td>\n",
       "    </tr>\n",
       "    <tr>\n",
       "      <th>2</th>\n",
       "      <td>24</td>\n",
       "      <td>24</td>\n",
       "      <td>True</td>\n",
       "      <td>/trends/explore?q=/g/11j2cc_qll&amp;date=today+5-y...</td>\n",
       "      <td>/g/11j2cc_qll</td>\n",
       "      <td>Coronavirus disease 2019</td>\n",
       "      <td>Disease</td>\n",
       "    </tr>\n",
       "    <tr>\n",
       "      <th>3</th>\n",
       "      <td>19</td>\n",
       "      <td>19</td>\n",
       "      <td>True</td>\n",
       "      <td>/trends/explore?q=/g/11j8_9sv06&amp;date=today+5-y...</td>\n",
       "      <td>/g/11j8_9sv06</td>\n",
       "      <td>COVID-19 vaccine</td>\n",
       "      <td>Vaccine</td>\n",
       "    </tr>\n",
       "    <tr>\n",
       "      <th>4</th>\n",
       "      <td>8</td>\n",
       "      <td>8</td>\n",
       "      <td>True</td>\n",
       "      <td>/trends/explore?q=/m/079h0&amp;date=today+5-y&amp;geo=MX</td>\n",
       "      <td>/m/079h0</td>\n",
       "      <td>Secondary education</td>\n",
       "      <td>School category</td>\n",
       "    </tr>\n",
       "    <tr>\n",
       "      <th>5</th>\n",
       "      <td>3</td>\n",
       "      <td>3</td>\n",
       "      <td>True</td>\n",
       "      <td>/trends/explore?q=/m/05t4q&amp;date=today+5-y&amp;geo=MX</td>\n",
       "      <td>/m/05t4q</td>\n",
       "      <td>Physician</td>\n",
       "      <td>Occupation</td>\n",
       "    </tr>\n",
       "    <tr>\n",
       "      <th>6</th>\n",
       "      <td>3</td>\n",
       "      <td>3</td>\n",
       "      <td>True</td>\n",
       "      <td>/trends/explore?q=/m/0kt51&amp;date=today+5-y&amp;geo=MX</td>\n",
       "      <td>/m/0kt51</td>\n",
       "      <td>Health</td>\n",
       "      <td>Topic</td>\n",
       "    </tr>\n",
       "    <tr>\n",
       "      <th>7</th>\n",
       "      <td>2</td>\n",
       "      <td>2</td>\n",
       "      <td>True</td>\n",
       "      <td>/trends/explore?q=/g/1q6h_1zz4&amp;date=today+5-y&amp;...</td>\n",
       "      <td>/g/1q6h_1zz4</td>\n",
       "      <td>baccalaureate</td>\n",
       "      <td>Degree</td>\n",
       "    </tr>\n",
       "    <tr>\n",
       "      <th>8</th>\n",
       "      <td>2</td>\n",
       "      <td>2</td>\n",
       "      <td>True</td>\n",
       "      <td>/trends/explore?q=/m/02rq2k1&amp;date=today+5-y&amp;ge...</td>\n",
       "      <td>/m/02rq2k1</td>\n",
       "      <td>Primary education</td>\n",
       "      <td>School category</td>\n",
       "    </tr>\n",
       "    <tr>\n",
       "      <th>9</th>\n",
       "      <td>2</td>\n",
       "      <td>2</td>\n",
       "      <td>True</td>\n",
       "      <td>/trends/explore?q=/m/011b7yqg&amp;date=today+5-y&amp;g...</td>\n",
       "      <td>/m/011b7yqg</td>\n",
       "      <td>Certification</td>\n",
       "      <td>Topic</td>\n",
       "    </tr>\n",
       "    <tr>\n",
       "      <th>10</th>\n",
       "      <td>1</td>\n",
       "      <td>1</td>\n",
       "      <td>True</td>\n",
       "      <td>/trends/explore?q=/g/11f3y03bqb&amp;date=today+5-y...</td>\n",
       "      <td>/g/11f3y03bqb</td>\n",
       "      <td>digital certificate</td>\n",
       "      <td>Topic</td>\n",
       "    </tr>\n",
       "    <tr>\n",
       "      <th>11</th>\n",
       "      <td>1</td>\n",
       "      <td>1</td>\n",
       "      <td>True</td>\n",
       "      <td>/trends/explore?q=/m/07hs4p&amp;date=today+5-y&amp;geo=MX</td>\n",
       "      <td>/m/07hs4p</td>\n",
       "      <td>Course</td>\n",
       "      <td>Education</td>\n",
       "    </tr>\n",
       "    <tr>\n",
       "      <th>12</th>\n",
       "      <td>1</td>\n",
       "      <td>1</td>\n",
       "      <td>True</td>\n",
       "      <td>/trends/explore?q=/g/120kg_h6&amp;date=today+5-y&amp;g...</td>\n",
       "      <td>/g/120kg_h6</td>\n",
       "      <td>duplicate entry</td>\n",
       "      <td>Topic</td>\n",
       "    </tr>\n",
       "    <tr>\n",
       "      <th>13</th>\n",
       "      <td>1</td>\n",
       "      <td>1</td>\n",
       "      <td>True</td>\n",
       "      <td>/trends/explore?q=/m/06r5rg&amp;date=today+5-y&amp;geo=MX</td>\n",
       "      <td>/m/06r5rg</td>\n",
       "      <td>Voucher</td>\n",
       "      <td>Topic</td>\n",
       "    </tr>\n",
       "    <tr>\n",
       "      <th>14</th>\n",
       "      <td>0</td>\n",
       "      <td>&lt;1</td>\n",
       "      <td>True</td>\n",
       "      <td>/trends/explore?q=/m/03jkw&amp;date=today+5-y&amp;geo=MX</td>\n",
       "      <td>/m/03jkw</td>\n",
       "      <td>HTTPS</td>\n",
       "      <td>Internet protocol</td>\n",
       "    </tr>\n",
       "    <tr>\n",
       "      <th>15</th>\n",
       "      <td>0</td>\n",
       "      <td>&lt;1</td>\n",
       "      <td>True</td>\n",
       "      <td>/trends/explore?q=/m/01bgz0&amp;date=today+5-y&amp;geo=MX</td>\n",
       "      <td>/m/01bgz0</td>\n",
       "      <td>Ballot</td>\n",
       "      <td>Topic</td>\n",
       "    </tr>\n",
       "    <tr>\n",
       "      <th>16</th>\n",
       "      <td>0</td>\n",
       "      <td>&lt;1</td>\n",
       "      <td>True</td>\n",
       "      <td>/trends/explore?q=/m/03rd6r&amp;date=today+5-y&amp;geo=MX</td>\n",
       "      <td>/m/03rd6r</td>\n",
       "      <td>Debtor</td>\n",
       "      <td>Topic</td>\n",
       "    </tr>\n",
       "    <tr>\n",
       "      <th>17</th>\n",
       "      <td>0</td>\n",
       "      <td>&lt;1</td>\n",
       "      <td>True</td>\n",
       "      <td>/trends/explore?q=/g/11n04t1m_2&amp;date=today+5-y...</td>\n",
       "      <td>/g/11n04t1m_2</td>\n",
       "      <td>Ad5-nCoV</td>\n",
       "      <td>Vaccine</td>\n",
       "    </tr>\n",
       "  </tbody>\n",
       "</table>\n",
       "</div>"
      ],
      "text/plain": [
       "    value formattedValue  hasData  \\\n",
       "0     100            100     True   \n",
       "1      44             44     True   \n",
       "2      24             24     True   \n",
       "3      19             19     True   \n",
       "4       8              8     True   \n",
       "5       3              3     True   \n",
       "6       3              3     True   \n",
       "7       2              2     True   \n",
       "8       2              2     True   \n",
       "9       2              2     True   \n",
       "10      1              1     True   \n",
       "11      1              1     True   \n",
       "12      1              1     True   \n",
       "13      1              1     True   \n",
       "14      0             <1     True   \n",
       "15      0             <1     True   \n",
       "16      0             <1     True   \n",
       "17      0             <1     True   \n",
       "\n",
       "                                                 link      topic_mid  \\\n",
       "0   /trends/explore?q=/g/1q6jhj1bs&date=today+5-y&...   /g/1q6jhj1bs   \n",
       "1    /trends/explore?q=/m/07__7&date=today+5-y&geo=MX       /m/07__7   \n",
       "2   /trends/explore?q=/g/11j2cc_qll&date=today+5-y...  /g/11j2cc_qll   \n",
       "3   /trends/explore?q=/g/11j8_9sv06&date=today+5-y...  /g/11j8_9sv06   \n",
       "4    /trends/explore?q=/m/079h0&date=today+5-y&geo=MX       /m/079h0   \n",
       "5    /trends/explore?q=/m/05t4q&date=today+5-y&geo=MX       /m/05t4q   \n",
       "6    /trends/explore?q=/m/0kt51&date=today+5-y&geo=MX       /m/0kt51   \n",
       "7   /trends/explore?q=/g/1q6h_1zz4&date=today+5-y&...   /g/1q6h_1zz4   \n",
       "8   /trends/explore?q=/m/02rq2k1&date=today+5-y&ge...     /m/02rq2k1   \n",
       "9   /trends/explore?q=/m/011b7yqg&date=today+5-y&g...    /m/011b7yqg   \n",
       "10  /trends/explore?q=/g/11f3y03bqb&date=today+5-y...  /g/11f3y03bqb   \n",
       "11  /trends/explore?q=/m/07hs4p&date=today+5-y&geo=MX      /m/07hs4p   \n",
       "12  /trends/explore?q=/g/120kg_h6&date=today+5-y&g...    /g/120kg_h6   \n",
       "13  /trends/explore?q=/m/06r5rg&date=today+5-y&geo=MX      /m/06r5rg   \n",
       "14   /trends/explore?q=/m/03jkw&date=today+5-y&geo=MX       /m/03jkw   \n",
       "15  /trends/explore?q=/m/01bgz0&date=today+5-y&geo=MX      /m/01bgz0   \n",
       "16  /trends/explore?q=/m/03rd6r&date=today+5-y&geo=MX      /m/03rd6r   \n",
       "17  /trends/explore?q=/g/11n04t1m_2&date=today+5-y...  /g/11n04t1m_2   \n",
       "\n",
       "                 topic_title         topic_type  \n",
       "0                Certificate             Degree  \n",
       "1                    Vaccine              Topic  \n",
       "2   Coronavirus disease 2019            Disease  \n",
       "3           COVID-19 vaccine            Vaccine  \n",
       "4        Secondary education    School category  \n",
       "5                  Physician         Occupation  \n",
       "6                     Health              Topic  \n",
       "7              baccalaureate             Degree  \n",
       "8          Primary education    School category  \n",
       "9              Certification              Topic  \n",
       "10       digital certificate              Topic  \n",
       "11                    Course          Education  \n",
       "12           duplicate entry              Topic  \n",
       "13                   Voucher              Topic  \n",
       "14                     HTTPS  Internet protocol  \n",
       "15                    Ballot              Topic  \n",
       "16                    Debtor              Topic  \n",
       "17                  Ad5-nCoV            Vaccine  "
      ]
     },
     "execution_count": 19,
     "metadata": {},
     "output_type": "execute_result"
    }
   ],
   "source": [
    "queries['certificado']['top']"
   ]
  },
  {
   "cell_type": "markdown",
   "id": "75eebd09-7bb1-49ba-b08d-7e89bdf9c18a",
   "metadata": {},
   "source": [
    "**Comparando** la información de salida entre `related_topics` y `related_queries`"
   ]
  },
  {
   "cell_type": "code",
   "execution_count": 25,
   "id": "49c52714-c296-435b-bd9d-6eea576fa920",
   "metadata": {},
   "outputs": [
    {
     "name": "stdout",
     "output_type": "stream",
     "text": [
      "['value', 'formattedValue', 'link', 'topic_mid', 'topic_title', 'topic_type']\n",
      "['value', 'formattedValue', 'link', 'topic_mid', 'topic_title', 'topic_type']\n"
     ]
    }
   ],
   "source": [
    "print(related['certificado']['rising'].columns.to_list())\n",
    "print(queries['certificado']['rising'].columns.to_list())"
   ]
  },
  {
   "cell_type": "code",
   "execution_count": 26,
   "id": "65a0f8ce-62b1-4c4b-b8d2-902ef939b6c1",
   "metadata": {},
   "outputs": [
    {
     "name": "stdout",
     "output_type": "stream",
     "text": [
      "['value', 'formattedValue', 'hasData', 'link', 'topic_mid', 'topic_title', 'topic_type']\n",
      "['value', 'formattedValue', 'hasData', 'link', 'topic_mid', 'topic_title', 'topic_type']\n"
     ]
    }
   ],
   "source": [
    "print(related['certificado']['top'].columns.to_list())\n",
    "print(queries['certificado']['top'].columns.to_list())"
   ]
  },
  {
   "cell_type": "markdown",
   "id": "b1967a08-6bdb-4f5f-8725-788a17ce7981",
   "metadata": {},
   "source": [
    "En cuanto a campos se refiere, `related_topics` y `related_queries` entregan la misma información."
   ]
  },
  {
   "cell_type": "markdown",
   "id": "4ea18d1b-1449-4609-96b3-ac022216eb8f",
   "metadata": {},
   "source": [
    "### Tendencias\n",
    "\n",
    "Regresa información sobre los últimos temas en tendencia\n",
    "\n",
    "[Documentación original](https://github.com/pat310/google-trends-api)"
   ]
  },
  {
   "cell_type": "code",
   "execution_count": 22,
   "id": "d2e9c2ad-2552-40f3-bfe2-be8e31e7ef2c",
   "metadata": {},
   "outputs": [
    {
     "data": {
      "text/html": [
       "<div>\n",
       "<style scoped>\n",
       "    .dataframe tbody tr th:only-of-type {\n",
       "        vertical-align: middle;\n",
       "    }\n",
       "\n",
       "    .dataframe tbody tr th {\n",
       "        vertical-align: top;\n",
       "    }\n",
       "\n",
       "    .dataframe thead th {\n",
       "        text-align: right;\n",
       "    }\n",
       "</style>\n",
       "<table border=\"1\" class=\"dataframe\">\n",
       "  <thead>\n",
       "    <tr style=\"text-align: right;\">\n",
       "      <th></th>\n",
       "      <th>title</th>\n",
       "      <th>entityNames</th>\n",
       "    </tr>\n",
       "  </thead>\n",
       "  <tbody>\n",
       "    <tr>\n",
       "      <th>0</th>\n",
       "      <td>Real Madrid CF, Rayo Vallecano, LaLiga, Karim ...</td>\n",
       "      <td>[Real Madrid CF, Rayo Vallecano, LaLiga, Karim...</td>\n",
       "    </tr>\n",
       "    <tr>\n",
       "      <th>1</th>\n",
       "      <td>Lunar eclipse, 2022</td>\n",
       "      <td>[Lunar eclipse, 2022]</td>\n",
       "    </tr>\n",
       "    <tr>\n",
       "      <th>2</th>\n",
       "      <td>Equatorial Guinea, France, Spain, Diplomat, Al...</td>\n",
       "      <td>[Equatorial Guinea, France, Spain, Diplomat, A...</td>\n",
       "    </tr>\n",
       "    <tr>\n",
       "      <th>3</th>\n",
       "      <td>Irene Bernasconi, Argentina, Google Doodle, Ec...</td>\n",
       "      <td>[Irene Bernasconi, Argentina, Google Doodle, E...</td>\n",
       "    </tr>\n",
       "    <tr>\n",
       "      <th>4</th>\n",
       "      <td>Andy Cruz, Boxing, Cuba, Cubans, Olympic champ...</td>\n",
       "      <td>[Andy Cruz, Boxing, Cuba, Cubans, Olympic cham...</td>\n",
       "    </tr>\n",
       "  </tbody>\n",
       "</table>\n",
       "</div>"
      ],
      "text/plain": [
       "                                               title  \\\n",
       "0  Real Madrid CF, Rayo Vallecano, LaLiga, Karim ...   \n",
       "1                                Lunar eclipse, 2022   \n",
       "2  Equatorial Guinea, France, Spain, Diplomat, Al...   \n",
       "3  Irene Bernasconi, Argentina, Google Doodle, Ec...   \n",
       "4  Andy Cruz, Boxing, Cuba, Cubans, Olympic champ...   \n",
       "\n",
       "                                         entityNames  \n",
       "0  [Real Madrid CF, Rayo Vallecano, LaLiga, Karim...  \n",
       "1                              [Lunar eclipse, 2022]  \n",
       "2  [Equatorial Guinea, France, Spain, Diplomat, A...  \n",
       "3  [Irene Bernasconi, Argentina, Google Doodle, E...  \n",
       "4  [Andy Cruz, Boxing, Cuba, Cubans, Olympic cham...  "
      ]
     },
     "execution_count": 22,
     "metadata": {},
     "output_type": "execute_result"
    }
   ],
   "source": [
    "trends = pytrends.realtime_trending_searches(pn='MX', cat='h', count=100)\n",
    "trends.head()"
   ]
  },
  {
   "cell_type": "code",
   "execution_count": 28,
   "id": "a884b4e2-19ac-4a47-a23a-3f479378c46b",
   "metadata": {},
   "outputs": [
    {
     "data": {
      "text/plain": [
       "(61, 2)"
      ]
     },
     "execution_count": 28,
     "metadata": {},
     "output_type": "execute_result"
    }
   ],
   "source": [
    "trends.shape"
   ]
  },
  {
   "cell_type": "markdown",
   "id": "1cdb3f1d-e9d3-4f48-8d9b-ee2279317848",
   "metadata": {},
   "source": [
    "**Inspeccionando** el tamaño de cada registro"
   ]
  },
  {
   "cell_type": "code",
   "execution_count": 29,
   "id": "dea80630-ef19-423e-8ced-dee447569e7e",
   "metadata": {},
   "outputs": [
    {
     "data": {
      "text/plain": [
       "'A.C. Monza, Bologna F.C. 1909, Serie A'"
      ]
     },
     "execution_count": 29,
     "metadata": {},
     "output_type": "execute_result"
    }
   ],
   "source": [
    "trends.loc[0]['title']"
   ]
  },
  {
   "cell_type": "code",
   "execution_count": 30,
   "id": "146cb75e-23bb-4d0b-90ce-1ea2359fce0e",
   "metadata": {},
   "outputs": [
    {
     "data": {
      "text/plain": [
       "['A.C. Monza', 'Bologna F.C. 1909', 'Serie A']"
      ]
     },
     "execution_count": 30,
     "metadata": {},
     "output_type": "execute_result"
    }
   ],
   "source": [
    "trends.loc[0]['entityNames']"
   ]
  },
  {
   "cell_type": "markdown",
   "id": "c4b4b4b9-b549-4a89-a66a-ac7c649a985d",
   "metadata": {},
   "source": [
    "# Siguientes pasos\n",
    "\n",
    "1) Identificar cuáles son las categorías que acepta el método de tendencia\n",
    "2) Cuáles son los criterios de búsquda más comunes de acuerdo con la información del INAI"
   ]
  }
 ],
 "metadata": {
  "kernelspec": {
   "display_name": "Python 3 (ipykernel)",
   "language": "python",
   "name": "python3"
  },
  "language_info": {
   "codemirror_mode": {
    "name": "ipython",
    "version": 3
   },
   "file_extension": ".py",
   "mimetype": "text/x-python",
   "name": "python",
   "nbconvert_exporter": "python",
   "pygments_lexer": "ipython3",
   "version": "3.10.6"
  }
 },
 "nbformat": 4,
 "nbformat_minor": 5
}
