{
 "cells": [
  {
   "cell_type": "code",
   "execution_count": 1,
   "id": "a874b7a5-44c5-447d-9f30-c819200f2195",
   "metadata": {},
   "outputs": [],
   "source": [
    "import json, os\n",
    "import numpy as np\n",
    "import pandas as pd\n",
    "import matplotlib.pyplot as plt\n",
    "\n",
    "from ipywidgets import widgets"
   ]
  },
  {
   "cell_type": "markdown",
   "id": "28d2edff-d5d3-492e-b888-1be9381dd8f1",
   "metadata": {},
   "source": [
    "# Monitor de consulta\n",
    "\n",
    "Describir las funciones del monitor\n",
    "\n",
    "## Log de consulta\n",
    "\n",
    "Desarrollar"
   ]
  },
  {
   "cell_type": "code",
   "execution_count": null,
   "id": "5850c8db-8fbe-40c9-bbb2-af4b825bf587",
   "metadata": {},
   "outputs": [],
   "source": []
  },
  {
   "cell_type": "markdown",
   "id": "ce59ebea-7f8a-4e1d-af96-61fccf8d8471",
   "metadata": {},
   "source": [
    "## Visualización rápida de consultas\n",
    "\n",
    "Carga de datos"
   ]
  },
  {
   "cell_type": "code",
   "execution_count": 2,
   "id": "3624ecfb-e790-44f3-8103-c6a3e1ad944c",
   "metadata": {},
   "outputs": [],
   "source": [
    "with open(file=os.path.join(os.getcwd(), \"../activos/salidas_trends_api.json\"), mode='r') as file:\n",
    "    contenido = json.load(file)\n",
    "file.close()"
   ]
  },
  {
   "cell_type": "markdown",
   "id": "23c02ce8-34ff-4458-b4b5-d8a0dc1db07e",
   "metadata": {},
   "source": [
    "Inspección rápida del contenido de las consultas"
   ]
  },
  {
   "cell_type": "code",
   "execution_count": 3,
   "id": "fe18c63d-dc57-4e07-a62a-70b4e374c39d",
   "metadata": {
    "tags": []
   },
   "outputs": [
    {
     "data": {
      "application/vnd.jupyter.widget-view+json": {
       "model_id": "8e9bcbf25c8040e6a08c556b730950d1",
       "version_major": 2,
       "version_minor": 0
      },
      "text/plain": [
       "interactive(children=(Dropdown(description='Criterio', options=('certificado', 'vulnerar'), value='certificado…"
      ]
     },
     "metadata": {},
     "output_type": "display_data"
    },
    {
     "data": {
      "text/plain": [
       "<function __main__.ver_contenidos(criterio, consulta, periodo, clase)>"
      ]
     },
     "execution_count": 3,
     "metadata": {},
     "output_type": "execute_result"
    }
   ],
   "source": [
    "def ver_contenidos(criterio, consulta, periodo, clase):\n",
    "    criterios = [contenido[k]['criterio'] for k in range(len(contenido))]\n",
    "    idx_criterio = criterios.index(criterio)\n",
    "    \n",
    "    if consulta == \"interes_tiempo\":\n",
    "        consulta = contenido[idx_criterio][consulta]\n",
    "    elif consulta == \"interes_region\":\n",
    "        print(f\"\\nInicio:\\t{contenido[idx_criterio][consulta][periodo]['fecha_inicio']}\\nFin:\\t{contenido[idx_criterio][consulta][periodo]['fecha_fin']}\")\n",
    "        consulta = contenido[idx_criterio][consulta][periodo]['contenido']\n",
    "    else:\n",
    "        print(f\"\\nInicio:\\t{contenido[idx_criterio][consulta][periodo]['fecha_inicio']}\\nFin:\\t{contenido[idx_criterio][consulta][periodo]['fecha_fin']}\")\n",
    "        consulta = contenido[idx_criterio][consulta][periodo]['contenido'][clase]\n",
    "    \n",
    "    return pd.DataFrame(consulta)\n",
    "\n",
    "consultas = list(contenido[0].keys())\n",
    "consultas.remove(\"criterio\")\n",
    "\n",
    "widgets.interact(ver_contenidos,\n",
    "                 criterio=widgets.Dropdown(options=[contenido[k]['criterio'] for k in range(len(contenido))], description='Criterio', disabled=False),\n",
    "                 consulta=widgets.Dropdown(options=consultas, description='Consulta', disabled=False),\n",
    "                 periodo=widgets.IntSlider(min=0, max=len(contenido[0][\"interes_region\"])-1, step=1, description='Periodo'),\n",
    "                 clase=widgets.Dropdown(options=['aumento','top'], description='Clase', disabled=False)\n",
    "                )"
   ]
  },
  {
   "cell_type": "code",
   "execution_count": null,
   "id": "63c0c2c8-cb61-47e2-b3d4-91b3dd112b2d",
   "metadata": {},
   "outputs": [],
   "source": []
  }
 ],
 "metadata": {
  "kernelspec": {
   "display_name": "Python 3 (ipykernel)",
   "language": "python",
   "name": "python3"
  },
  "language_info": {
   "codemirror_mode": {
    "name": "ipython",
    "version": 3
   },
   "file_extension": ".py",
   "mimetype": "text/x-python",
   "name": "python",
   "nbconvert_exporter": "python",
   "pygments_lexer": "ipython3",
   "version": "3.10.6"
  }
 },
 "nbformat": 4,
 "nbformat_minor": 5
}
